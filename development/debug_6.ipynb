{
 "cells": [
  {
   "cell_type": "code",
   "execution_count": 82,
   "id": "704792f9-3cf1-4550-9471-5063cd4decd7",
   "metadata": {},
   "outputs": [],
   "source": [
    "import math\n",
    "from typing import List, Optional, Tuple, Union\n",
    "from abc import ABC, abstractmethod\n",
    "\n",
    "import datasets\n",
    "import torch\n",
    "import torch.nn.functional as F\n",
    "import numpy as np\n",
    "import torch.nn as nn\n",
    "import logging\n",
    "import copy\n",
    "import gc\n",
    "\n",
    "from datasets import load_dataset\n",
    "from tqdm import tqdm\n",
    "from transformers import (\n",
    "    CONFIG_MAPPING,\n",
    "    MODEL_FOR_CAUSAL_LM_MAPPING,\n",
    "    PreTrainedModel,\n",
    "    PretrainedConfig,\n",
    "    AutoConfig,\n",
    "    AutoModelForCausalLM,\n",
    "    LlamaForCausalLM,\n",
    "    LlamaConfig,\n",
    "    Trainer,\n",
    "    TrainingArguments,\n",
    "    AutoTokenizer,\n",
    "    HfArgumentParser,\n",
    "    default_data_collator,\n",
    "    is_torch_xla_available,\n",
    "    set_seed,\n",
    ")\n",
    "from transformers import (\n",
    "    HfArgumentParser,\n",
    "    TrainingArguments,\n",
    "    Trainer\n",
    ")\n",
    "\n",
    "from configuration_qwen2 import Qwen2Config\n",
    "\n",
    "from transformers.modeling_outputs import (\n",
    "    BaseModelOutputWithPast,\n",
    "    CausalLMOutputWithPast\n",
    ")\n",
    "\n",
    "# Configure logger\n",
    "logging.basicConfig(level=logging.INFO, format='%(asctime)s - %(levelname)s - %(message)s')\n",
    "logger = logging.getLogger(__name__)"
   ]
  },
  {
   "cell_type": "code",
   "execution_count": 87,
   "id": "8e6eae6d-8211-455a-aa3b-a9f81a9a74cc",
   "metadata": {},
   "outputs": [
    {
     "data": {
      "text/plain": [
       "\u001b[0;31mSignature:\u001b[0m\n",
       "\u001b[0mdefault_data_collator\u001b[0m\u001b[0;34m(\u001b[0m\u001b[0;34m\u001b[0m\n",
       "\u001b[0;34m\u001b[0m    \u001b[0mfeatures\u001b[0m\u001b[0;34m:\u001b[0m \u001b[0mList\u001b[0m\u001b[0;34m[\u001b[0m\u001b[0mtransformers\u001b[0m\u001b[0;34m.\u001b[0m\u001b[0mdata\u001b[0m\u001b[0;34m.\u001b[0m\u001b[0mdata_collator\u001b[0m\u001b[0;34m.\u001b[0m\u001b[0mInputDataClass\u001b[0m\u001b[0;34m]\u001b[0m\u001b[0;34m,\u001b[0m\u001b[0;34m\u001b[0m\n",
       "\u001b[0;34m\u001b[0m    \u001b[0mreturn_tensors\u001b[0m\u001b[0;34m=\u001b[0m\u001b[0;34m'pt'\u001b[0m\u001b[0;34m,\u001b[0m\u001b[0;34m\u001b[0m\n",
       "\u001b[0;34m\u001b[0m\u001b[0;34m)\u001b[0m \u001b[0;34m->\u001b[0m \u001b[0mDict\u001b[0m\u001b[0;34m[\u001b[0m\u001b[0mstr\u001b[0m\u001b[0;34m,\u001b[0m \u001b[0mAny\u001b[0m\u001b[0;34m]\u001b[0m\u001b[0;34m\u001b[0m\u001b[0;34m\u001b[0m\u001b[0m\n",
       "\u001b[0;31mSource:\u001b[0m   \n",
       "\u001b[0;32mdef\u001b[0m \u001b[0mdefault_data_collator\u001b[0m\u001b[0;34m(\u001b[0m\u001b[0mfeatures\u001b[0m\u001b[0;34m:\u001b[0m \u001b[0mList\u001b[0m\u001b[0;34m[\u001b[0m\u001b[0mInputDataClass\u001b[0m\u001b[0;34m]\u001b[0m\u001b[0;34m,\u001b[0m \u001b[0mreturn_tensors\u001b[0m\u001b[0;34m=\u001b[0m\u001b[0;34m\"pt\"\u001b[0m\u001b[0;34m)\u001b[0m \u001b[0;34m->\u001b[0m \u001b[0mDict\u001b[0m\u001b[0;34m[\u001b[0m\u001b[0mstr\u001b[0m\u001b[0;34m,\u001b[0m \u001b[0mAny\u001b[0m\u001b[0;34m]\u001b[0m\u001b[0;34m:\u001b[0m\u001b[0;34m\u001b[0m\n",
       "\u001b[0;34m\u001b[0m    \u001b[0;34m\"\"\"\u001b[0m\n",
       "\u001b[0;34m    Very simple data collator that simply collates batches of dict-like objects and performs special handling for\u001b[0m\n",
       "\u001b[0;34m    potential keys named:\u001b[0m\n",
       "\u001b[0;34m\u001b[0m\n",
       "\u001b[0;34m        - `label`: handles a single value (int or float) per object\u001b[0m\n",
       "\u001b[0;34m        - `label_ids`: handles a list of values per object\u001b[0m\n",
       "\u001b[0;34m\u001b[0m\n",
       "\u001b[0;34m    Does not do any additional preprocessing: property names of the input object will be used as corresponding inputs\u001b[0m\n",
       "\u001b[0;34m    to the model. See glue and ner for example of how it's useful.\u001b[0m\n",
       "\u001b[0;34m    \"\"\"\u001b[0m\u001b[0;34m\u001b[0m\n",
       "\u001b[0;34m\u001b[0m\u001b[0;34m\u001b[0m\n",
       "\u001b[0;34m\u001b[0m    \u001b[0;31m# In this function we'll make the assumption that all `features` in the batch\u001b[0m\u001b[0;34m\u001b[0m\n",
       "\u001b[0;34m\u001b[0m    \u001b[0;31m# have the same attributes.\u001b[0m\u001b[0;34m\u001b[0m\n",
       "\u001b[0;34m\u001b[0m    \u001b[0;31m# So we will look at the first element as a proxy for what attributes exist\u001b[0m\u001b[0;34m\u001b[0m\n",
       "\u001b[0;34m\u001b[0m    \u001b[0;31m# on the whole batch.\u001b[0m\u001b[0;34m\u001b[0m\n",
       "\u001b[0;34m\u001b[0m\u001b[0;34m\u001b[0m\n",
       "\u001b[0;34m\u001b[0m    \u001b[0;32mif\u001b[0m \u001b[0mreturn_tensors\u001b[0m \u001b[0;34m==\u001b[0m \u001b[0;34m\"pt\"\u001b[0m\u001b[0;34m:\u001b[0m\u001b[0;34m\u001b[0m\n",
       "\u001b[0;34m\u001b[0m        \u001b[0;32mreturn\u001b[0m \u001b[0mtorch_default_data_collator\u001b[0m\u001b[0;34m(\u001b[0m\u001b[0mfeatures\u001b[0m\u001b[0;34m)\u001b[0m\u001b[0;34m\u001b[0m\n",
       "\u001b[0;34m\u001b[0m    \u001b[0;32melif\u001b[0m \u001b[0mreturn_tensors\u001b[0m \u001b[0;34m==\u001b[0m \u001b[0;34m\"tf\"\u001b[0m\u001b[0;34m:\u001b[0m\u001b[0;34m\u001b[0m\n",
       "\u001b[0;34m\u001b[0m        \u001b[0;32mreturn\u001b[0m \u001b[0mtf_default_data_collator\u001b[0m\u001b[0;34m(\u001b[0m\u001b[0mfeatures\u001b[0m\u001b[0;34m)\u001b[0m\u001b[0;34m\u001b[0m\n",
       "\u001b[0;34m\u001b[0m    \u001b[0;32melif\u001b[0m \u001b[0mreturn_tensors\u001b[0m \u001b[0;34m==\u001b[0m \u001b[0;34m\"np\"\u001b[0m\u001b[0;34m:\u001b[0m\u001b[0;34m\u001b[0m\n",
       "\u001b[0;34m\u001b[0m        \u001b[0;32mreturn\u001b[0m \u001b[0mnumpy_default_data_collator\u001b[0m\u001b[0;34m(\u001b[0m\u001b[0mfeatures\u001b[0m\u001b[0;34m)\u001b[0m\u001b[0;34m\u001b[0m\u001b[0;34m\u001b[0m\u001b[0m\n",
       "\u001b[0;31mFile:\u001b[0m      ~/miniconda3/envs/py3.11/lib/python3.11/site-packages/transformers/data/data_collator.py\n",
       "\u001b[0;31mType:\u001b[0m      function"
      ]
     },
     "metadata": {},
     "output_type": "display_data"
    }
   ],
   "source": [
    "default_data_collator??"
   ]
  },
  {
   "cell_type": "code",
   "execution_count": 2,
   "id": "f7a1e57c-cc69-4cf0-9502-ab38783d3e33",
   "metadata": {},
   "outputs": [],
   "source": [
    "rewrite_smol = load_dataset(\"HuggingFaceTB/smoltalk\", \"smol-rewrite\", split=\"test\")\n",
    "summarize_smol = load_dataset(\"HuggingFaceTB/smoltalk\", \"smol-summarize\", split=\"test\")"
   ]
  },
  {
   "cell_type": "code",
   "execution_count": 3,
   "id": "2df7eb11-e92c-45ff-a9bd-6dfbb0c7b1b7",
   "metadata": {},
   "outputs": [],
   "source": [
    "rewrite_train = load_dataset(\"HuggingFaceTB/smoltalk\", \"smol-rewrite\", split=\"train\")\n",
    "summarize_train = load_dataset(\"HuggingFaceTB/smoltalk\", \"smol-summarize\", split=\"train\")"
   ]
  },
  {
   "cell_type": "code",
   "execution_count": 4,
   "id": "3e250c23-2d2e-40c9-96ad-8ecda02fc701",
   "metadata": {},
   "outputs": [],
   "source": [
    "# import os\n",
    "# os.listdir(\"/workspace/HUB_LLM/091224_llama3_70b/\")"
   ]
  },
  {
   "cell_type": "code",
   "execution_count": 5,
   "id": "e953732a-ae0d-4300-823f-6b034760b70b",
   "metadata": {},
   "outputs": [],
   "source": [
    "from transformers import GenerationConfig, TextStreamer\n",
    "def generate(prompt, model, tokenizer, max_new_tokens=1024):\n",
    "    input_ids = tokenizer(prompt, return_tensors=\"pt\")[\"input_ids\"].to(model.device)\n",
    "    model.eval()\n",
    "    with torch.no_grad():\n",
    "        generation_config = GenerationConfig(\n",
    "            repetition_penalty=1.13,\n",
    "            max_new_tokens=max_new_tokens,\n",
    "            temperature=0.4,\n",
    "            top_p=0.95,\n",
    "            # top_k=20,\n",
    "            # bos_token_id=tokenizer.bos_token_id,\n",
    "            # eos_token_id=tokenizer.eos_token_id,\n",
    "            # eos_token_id=0, # for open-end generation.\n",
    "            eos_token_id=[128001, 128009],\n",
    "            pad_token_id=tokenizer.pad_token_id,\n",
    "            do_sample=False,\n",
    "            use_cache=True,\n",
    "            return_dict_in_generate=True,\n",
    "            output_attentions=False,\n",
    "            output_hidden_states=False,\n",
    "            output_scores=False,\n",
    "        )\n",
    "        streamer = TextStreamer(tokenizer, skip_prompt=True)\n",
    "        generated = model.generate(\n",
    "            inputs=input_ids,\n",
    "            generation_config=generation_config,\n",
    "            streamer=streamer,\n",
    "        )\n",
    "    gen_tokens = generated[\"sequences\"].cpu()[:, len(input_ids[0]):]\n",
    "    output = tokenizer.batch_decode(gen_tokens)[0]\n",
    "    output = output.split(tokenizer.eos_token)[0]\n",
    "    return output.strip()\n",
    "\n",
    "def get_logits(text, model, tokenizer):\n",
    "    input_ids = tokenizer(text, return_tensors=\"pt\").to(model.device)\n",
    "    model.eval()\n",
    "    with torch.no_grad():\n",
    "        logits = model(**input_ids).logits\n",
    "    return logits\n",
    "\n",
    "def get_hidden_states(text, model, tokenizer):\n",
    "    input_ids = tokenizer(text, return_tensors=\"pt\").to(model.device)\n",
    "    model.eval()\n",
    "    with torch.no_grad():\n",
    "        outputs = model(**input_ids, output_hidden_states=True, use_cache=False)\n",
    "    return outputs"
   ]
  },
  {
   "cell_type": "code",
   "execution_count": 6,
   "id": "f9d4ee96-688d-49da-bd40-9331588e87b3",
   "metadata": {},
   "outputs": [],
   "source": [
    "def free_memory():\n",
    "    if not torch.cuda.is_available():\n",
    "        logger.info(\"CUDA is not available. No GPU memory to free.\")\n",
    "        return\n",
    "        \n",
    "    initial_memory = torch.cuda.memory_allocated()\n",
    "    logger.info(f\"Initial GPU memory allocated: {initial_memory / 1024**3:.2f} GB\")\n",
    "    gc.collect()\n",
    "    torch.cuda.empty_cache()\n",
    "\n",
    "    final_memory = torch.cuda.memory_allocated()\n",
    "    logger.info(f\"Final GPU memory allocated: {final_memory / 1024**3:.2f} GB\")\n",
    "\n",
    "    freed_memory = initial_memory - final_memory\n",
    "    logger.info(f\"Freed GPU memory: {freed_memory / 1024**3:.2f} GB\")"
   ]
  },
  {
   "cell_type": "code",
   "execution_count": 7,
   "id": "e2dd8c3d-92b0-4860-b879-b97fc0d28fcf",
   "metadata": {},
   "outputs": [],
   "source": [
    "class MaskConfig(PretrainedConfig):\n",
    "    def __init__(\n",
    "        self,\n",
    "        mode: str = None,\n",
    "        value: Union[float, torch.Tensor] = None,\n",
    "        size: torch.Size = None,\n",
    "        **kwargs,\n",
    "    ):\n",
    "        self.mode = mode\n",
    "        self.value = value\n",
    "        self.size = size\n",
    "        super().__init__(**kwargs)\n",
    "\n",
    "class Mask(nn.Module):\n",
    "    def __init__(self, mask_config: MaskConfig):\n",
    "        super().__init__()\n",
    "        self.config = mask_config\n",
    "        self.size = mask_config.size\n",
    "        assert self.size is not None, \"Mask size must be specified.\"\n",
    "\n",
    "        value = mask_config.value\n",
    "        if value is not None:\n",
    "            logger.warning(\"Highly reccommend initializing mask value using dedicated setup functions.\")\n",
    "            if not isinstance(value, torch.Tensor): \n",
    "                try: value = torch.tensor(value)\n",
    "                except: raise ValueError(\n",
    "                    f\"Unable to convert {value} to torch.Tensor required for initializing a mask's weight.\"\n",
    "                )\n",
    "\n",
    "        ## TODO: might refactor later: modify _get_ones() to handle scalar mode.\n",
    "        if mask_config.mode == \"scalar\":\n",
    "            self.weight = nn.Parameter(value if value is not None else torch.tensor(1.0))\n",
    "            \n",
    "        elif mask_config.mode in (\"vector_input\", \"vector_output\"):\n",
    "            ones = self._get_ones(mask_config.mode)\n",
    "            self.weight = nn.Parameter(value if value is not None else ones)\n",
    "        else:\n",
    "            raise ValueError(f\"Unsupported mask mode: {mask_config.mode}\")\n",
    "\n",
    "        self._check_shape_compatibility()\n",
    "\n",
    "    def _get_ones(self, mode: str) -> torch.Tensor:\n",
    "        \"\"\"Generates a tensor of ones based on mode and size.\"\"\"\n",
    "        dim = 0 if mode == \"vector_output\" else -1\n",
    "        features = self.size[dim]\n",
    "        if len(self.size) == 2 and mode == \"vector_output\":\n",
    "            return torch.ones(features, 1)\n",
    "        else:\n",
    "            return torch.ones(features)\n",
    "          \n",
    "\n",
    "    def _check_shape_compatibility(self):\n",
    "        \"\"\"Raises ValueError if the mask shape is incompatible with its size.\"\"\"\n",
    "        try:\n",
    "            in_test = torch.rand(self.size)\n",
    "            out_test = self.weight * in_test\n",
    "            assert out_test.shape == in_test.shape, (\n",
    "                \"After applying mask, the shape of input weight does not stay the same.\"\n",
    "            )\n",
    "        except RuntimeError:\n",
    "            raise ValueError(\"Mask initialized with an incompatible shape.\")\n",
    "\n",
    "    def forward(self, x: torch.Tensor) -> torch.Tensor:\n",
    "        if self.size != x.shape:\n",
    "            logger.warning(\"Warning: Input shape does not match mask shape.\")\n",
    "        return x * self.weight\n",
    "\n",
    "    def extra_repr(self):\n",
    "        return f\"mask_mode={self.config.mode}\""
   ]
  },
  {
   "cell_type": "code",
   "execution_count": 8,
   "id": "8059dd6e-cfa0-4114-a51f-d933593b424b",
   "metadata": {},
   "outputs": [],
   "source": [
    "class ModuleWithMask(nn.Module, ABC):\n",
    "    def __init__(self, *args, **kwargs):\n",
    "        super(ModuleWithMask, self).__init__()\n",
    "\n",
    "    @abstractmethod\n",
    "    def forward(self, x):\n",
    "        pass\n",
    "\n",
    "class ModulesWithMasks(nn.Module, ABC):\n",
    "    def __init__(self, *args, **kwargs):\n",
    "        super(ModulesWithMasks, self).__init__()\n",
    "\n",
    "    @abstractmethod\n",
    "    def forward(self, x):\n",
    "        pass\n",
    "        \n",
    "    @abstractmethod\n",
    "    def get_raw_masks(self):\n",
    "        pass\n",
    "        \n",
    "    @abstractmethod\n",
    "    def get_constrained_masks(self):\n",
    "        pass"
   ]
  },
  {
   "cell_type": "code",
   "execution_count": 9,
   "id": "cb194d9c-95ab-44f0-bbdd-ecbfed06dcab",
   "metadata": {},
   "outputs": [
    {
     "data": {
      "text/plain": [
       "tensor(0.5000)"
      ]
     },
     "execution_count": 9,
     "metadata": {},
     "output_type": "execute_result"
    }
   ],
   "source": [
    "def relu_01(x: torch.Tensor) -> torch.Tensor:\n",
    "    return F.relu(x) - F.relu(x - 1.0)\n",
    "\n",
    "relu_01(torch.tensor(0.5))"
   ]
  },
  {
   "cell_type": "code",
   "execution_count": 10,
   "id": "0a25d893-65ed-4a1c-8838-bcb49653ecfc",
   "metadata": {},
   "outputs": [],
   "source": [
    "def silu_01(x: torch.Tensor) -> torch.Tensor:\n",
    "    return F.silu(x) - F.silu(x - 1.0)\n",
    "\n",
    "def relu_01(x: torch.Tensor) -> torch.Tensor:\n",
    "    return F.relu(x) - F.relu(x - 1.0)\n",
    "\n",
    "def normalize(v, dim, eps: float = 1e-8):\n",
    "    norm_v = torch.linalg.norm(v, dim=dim)\n",
    "    norm_v[norm_v < eps] = 1.0\n",
    "    v = v / norm_v\n",
    "    return v\n",
    "\n",
    "class Constrainer(nn.Module):\n",
    "\n",
    "    def __init__(self, component_weights, constrain_mode, mask_mode):\n",
    "        super().__init__()\n",
    "        self.statistics = None\n",
    "        self.constrain_mode = constrain_mode\n",
    "        self.mask_mode = mask_mode\n",
    "        if self.constrain_mode not in (\"identity\", \"01\", \"-11\", \"spherical\", \"sum1\"):\n",
    "            raise ValueError(f\"Does not support {self.constrain_mode} constraint yet!\")\n",
    "            \n",
    "        if (self.constrain_mode == \"spherical\" and all([w is not None for w in component_weights])):\n",
    "            self._get_spherical_stats(component_weights)\n",
    "\n",
    "    def _get_spherical_stats(\n",
    "        self, \n",
    "        component_weights: List[torch.Tensor], \n",
    "        DOT_THRESHOLD: float = 0.99995\n",
    "    ):\n",
    "        with torch.no_grad():\n",
    "            if any([w is None for w in component_weights]):\n",
    "                raise ValueError(\"Spherical constraint (SLERP) does not support None weights.\")\n",
    "            if len(component_weights) != 2: \n",
    "                raise ValueError(\n",
    "                    \"Spherical constraint (SLERP) only supports 2 component weights, \" +\n",
    "                    f\"{len(component_weights)} components found.\"\n",
    "                )\n",
    "\n",
    "            \n",
    "            dim = 0 if self.mask_mode in (\"vector_input\") else None\n",
    "            v0 = normalize(component_weights[0], dim=dim)\n",
    "            v1 = normalize(component_weights[1], dim=dim)\n",
    "            self.dots = torch.sum(v0 * v1, dim=dim, keepdim=False) ## (out_features, in_features) -> (in_features, )\n",
    "            self.theta_0s = torch.arccos(self.dots)\n",
    "            self.sin_theta_0s = torch.sin(self.theta_0s)\n",
    "        \n",
    "    def _constrain_identity(self, mask_weights: List[torch.Tensor]):\n",
    "        return mask_weights\n",
    "\n",
    "    def _constrain_sumone(self, mask_weights: List[torch.Tensor]):\n",
    "        W = [w / sum(mask_weights) for w in mask_weights]\n",
    "        return W\n",
    "\n",
    "    def _constrain_0_1(self, mask_weights: List[torch.Tensor]):\n",
    "        W = [relu_01(w) for w in mask_weights]\n",
    "        return W\n",
    "\n",
    "    def _constrain_neg1_1(self, mask_weights: List[torch.Tensor]):\n",
    "        return mask_weights\n",
    "\n",
    "    def _constrain_spherical(self, mask_weights: List[torch.Tensor], DOT_THRESHOLD: float = 0.9995):\n",
    "        assert len(mask_weights) == 2, (\n",
    "            \"Spherical constraint (SLERP) only supports 2 mask weights\"\n",
    "        )\n",
    "        \n",
    "        # Transform raw masks to factor t's.\n",
    "        ## QUESTION MASK: Does this modify mask_weights in-place? I only \n",
    "        ## update them via backprop.\n",
    "        # W = [torch.exp(w) for w in mask_weights]\n",
    "        # T = W[0] / sum(W)\n",
    "\n",
    "        ## ignore mask_weights[1]\n",
    "        T = silu_01(mask_weights[0])\n",
    "\n",
    "        # Angle at timestep t's\n",
    "        theta_ts = self.theta_0s * T\n",
    "        sin_theta_ts = torch.sin(theta_ts)\n",
    "\n",
    "        # Finish calculating slerp factors\n",
    "        S0 = torch.sin(self.theta_0s - theta_ts) / self.sin_theta_0s\n",
    "        S1 = sin_theta_ts / self.sin_theta_0s\n",
    "\n",
    "        # Avoid NaN\n",
    "        nan_indices = self.dots.float() > DOT_THRESHOLD\n",
    "        S0[nan_indices] = 1 - T[nan_indices]\n",
    "        S1[nan_indices] = T[nan_indices]\n",
    "        \n",
    "        return [S0, S1]\n",
    "        \n",
    "    def forward(self, mask_weights: List[torch.Tensor]):\n",
    "        if any([w is None for w in mask_weights]):\n",
    "            return mask_weights\n",
    "            \n",
    "        if self.constrain_mode == \"identity\":\n",
    "            return self._constrain_identity(mask_weights)\n",
    "        elif self.constrain_mode == \"01\":\n",
    "            return self._constrain_0_1(mask_weights)\n",
    "        elif self.constrain_mode == \"-11\":\n",
    "            return self._constrain_neg1_1(mask_weights)\n",
    "        elif self.constrain_mode == \"sum1\":\n",
    "            return self._constrain_sumone(mask_weights)\n",
    "        elif self.constrain_mode == \"spherical\":\n",
    "            return self._constrain_spherical(mask_weights)\n",
    "        else:\n",
    "            raise ValueError(f\"Does not support {self.constrain_mode} constraint yet!\")\n",
    "\n",
    "    def extra_repr(self):\n",
    "        return f\"constrain_mode={self.constrain_mode}\""
   ]
  },
  {
   "cell_type": "code",
   "execution_count": 11,
   "id": "1425bfa1-26eb-4976-b03d-5f2841d9922c",
   "metadata": {},
   "outputs": [],
   "source": [
    "class LinearsWithMasks(ModulesWithMasks):\n",
    "    def __init__(\n",
    "        self,\n",
    "        linears: List[nn.Linear],\n",
    "        weight_modes: List[str] = None,\n",
    "        weight_values: List[float] = None,\n",
    "        bias_modes: List[str] = None,\n",
    "        bias_values: List[float] = None,\n",
    "        constrain_mode: str = \"identity\",\n",
    "    ):\n",
    "        super().__init__()\n",
    "\n",
    "        if not all(isinstance(linear, nn.Linear) for linear in linears):\n",
    "            raise ValueError(\"All elements in 'linears' must be instances of nn.Linear.\")\n",
    "\n",
    "        if weight_values is None or len(weight_values) != len(linears):\n",
    "            raise ValueError(\n",
    "                f\"Weight values for masks: {weight_values} do not match with linear layers: {linears}\"\n",
    "            )\n",
    "        if bias_values is None:\n",
    "            bias_values = [None] * len(linears)\n",
    "        if len(bias_values) != len(linears):\n",
    "            raise ValueError(\n",
    "                f\"Bias values for masks: {bias_values} do not match with linear layers: {linears}\"\n",
    "            )\n",
    "\n",
    "        self.linears = nn.ModuleList(linears)\n",
    "        self.constrain_mode = constrain_mode\n",
    "\n",
    "        self.weight_masks = nn.ModuleList([\n",
    "            Mask(MaskConfig(mode, value, linear.weight.shape))\n",
    "            for mode, value, linear in zip(weight_modes, weight_values, linears)\n",
    "        ])\n",
    "        \n",
    "        self.weight_masks_constrainer = Constrainer(\n",
    "            component_weights=[x.weight for x in self.linears], \n",
    "            constrain_mode=constrain_mode, mask_mode=weight_modes[0]\n",
    "        )\n",
    "\n",
    "        self.bias_masks = nn.ModuleList([\n",
    "            Mask(MaskConfig(mode, value, linear.bias.shape)) if linear.bias is not None else None\n",
    "            for mode, value, linear in zip(bias_modes, bias_values, linears)\n",
    "        ])\n",
    "        \n",
    "        self.bias_masks_constrainer = Constrainer(\n",
    "            component_weights=[x.bias if x.bias is not None else None for x in self.linears],\n",
    "            constrain_mode=constrain_mode, mask_mode=bias_modes[0]\n",
    "        )\n",
    "\n",
    "    def forward(self, x):\n",
    "        constrained_weight_masks = self.weight_masks_constrainer([m.weight for m in self.weight_masks])\n",
    "        masked_weights = [\n",
    "            w_mask * linear.weight for w_mask, linear in zip(constrained_weight_masks, self.linears)\n",
    "        ]\n",
    "        merged_weight = sum(masked_weights)\n",
    "\n",
    "        constrained_bias_masks = self.bias_masks_constrainer(\n",
    "            [m.weight if m is not None else None for m in self.bias_masks]\n",
    "        )\n",
    "        masked_biases = [\n",
    "            b_mask * linear.bias if linear.bias is not None and b_mask is not None else linear.bias\n",
    "            for b_mask, linear in zip(constrained_bias_masks, self.linears)\n",
    "        ]\n",
    "\n",
    "        merged_bias = (\n",
    "            sum(b if b is not None else torch.zeros_like(merged_weight[:, 0]) for b in masked_biases)\n",
    "            if not all(b is None for b in masked_biases) else None\n",
    "        )\n",
    "\n",
    "        return nn.functional.linear(x, merged_weight, merged_bias)\n",
    "\n",
    "    def get_raw_masks(self):\n",
    "        with torch.no_grad():\n",
    "            return {\n",
    "                \"weight_masks\": [m.weight for m in self.weight_masks],\n",
    "                \"bias_masks\": [m.weight if m is not None else None for m in self.bias_masks],\n",
    "            }\n",
    "\n",
    "    def get_constrained_masks(self):\n",
    "        with torch.no_grad():\n",
    "            constrained_weight_masks = self.weight_masks_constrainer(\n",
    "                [m.weight for m in self.weight_masks]\n",
    "            )\n",
    "            constrained_bias_masks = self.bias_masks_constrainer(\n",
    "                [m.weight if m is not None else None for m in self.bias_masks]\n",
    "            )\n",
    "            return {\n",
    "                \"weight_masks\": constrained_weight_masks,\n",
    "                \"bias_masks\": constrained_bias_masks,\n",
    "            }"
   ]
  },
  {
   "cell_type": "code",
   "execution_count": 12,
   "id": "e80b5b96-0e76-46d3-a10e-84e122386f0d",
   "metadata": {},
   "outputs": [],
   "source": [
    "class RMSNormsWithMasks(ModulesWithMasks):\n",
    "    def __init__(\n",
    "        self,\n",
    "        rms_norms: List[nn.Module],\n",
    "        modes: List[str] = None,\n",
    "        values: List[float] = None,\n",
    "        constrain_mode: str = \"identity\",\n",
    "    ):\n",
    "        super().__init__()\n",
    "        sizes = [norm.weight.shape for norm in rms_norms]\n",
    "        if any([mode != \"scalar\" for mode in modes]):\n",
    "            logger.warning_once(\n",
    "                f\"Though you want to make a masks of modes {modes} \" + \\\n",
    "                \"for RMSNorms' weights, by default a mask only accepts a scalar mask. \" + \\\n",
    "                \"Converting modes to `scalar`.\"\n",
    "            )\n",
    "            modes = [\"scalar\"] * len(modes)\n",
    "            \n",
    "        if values is None or len(values) != len(rms_norms):\n",
    "            raise ValueError(f\"values for masks: {values} do not match with RMSNorm layers: {rms_norms}\")\n",
    "\n",
    "        self.rms_norms = nn.ModuleList(rms_norms)\n",
    "        self.masks = nn.ModuleList([\n",
    "            Mask(MaskConfig(mode, value, norm.weight.shape))\n",
    "            for mode, value, norm in zip(modes, values, rms_norms)\n",
    "        ])\n",
    "        self.masks_constrainer = Constrainer(\n",
    "            component_weights=[norm.weight for norm in self.rms_norms], \n",
    "            constrain_mode=constrain_mode, mask_mode=modes[0]\n",
    "        )\n",
    "\n",
    "    def forward(self, hidden_states):\n",
    "        constrained_masks = self.masks_constrainer([m.weight for m in self.masks])\n",
    "        masked_weights = [mask * norm.weight for mask, norm in zip(constrained_masks, self.rms_norms)]\n",
    "        merged_weight = sum(masked_weights)\n",
    "        variance_epsilon = self.rms_norms[0].variance_epsilon\n",
    "        for norm in self.rms_norms:\n",
    "            assert variance_epsilon == norm.variance_epsilon, (\"Variance epsilon among models must be consistent\")\n",
    "        input_dtype = hidden_states.dtype\n",
    "        hidden_states = hidden_states.to(torch.float32)\n",
    "        variance = hidden_states.pow(2).mean(-1, keepdim=True)\n",
    "        hidden_states = hidden_states * torch.rsqrt(variance + variance_epsilon)\n",
    "        return merged_weight * hidden_states.to(input_dtype)\n",
    "\n",
    "    def get_raw_masks(self):\n",
    "        with torch.no_grad():\n",
    "            return {\"masks\": [m.weight for m in self.masks]}\n",
    "\n",
    "    def get_constrained_masks(self):\n",
    "        with torch.no_grad():\n",
    "            constrained_masks = self.masks_constrainer([m.weight for m in self.masks])\n",
    "            return {\"masks\": constrained_masks}"
   ]
  },
  {
   "cell_type": "code",
   "execution_count": 13,
   "id": "462f8ba9-7b19-449a-98c6-59d470820b33",
   "metadata": {},
   "outputs": [],
   "source": [
    "class EmbeddingsWithMasks(ModulesWithMasks):\n",
    "    def __init__(\n",
    "        self,\n",
    "        embeddings: List[nn.Embedding],\n",
    "        modes: List[str] = None,\n",
    "        values: List[float] = None,\n",
    "        constrain_mode: str = \"identity\"\n",
    "    ):\n",
    "        super().__init__()\n",
    "        if values is None or len(values) != len(embeddings):\n",
    "            raise ValueError(f\"values for masks: {values} do not match with Embedding layers: {embeddings}\")\n",
    "\n",
    "        self.embeddings = nn.ModuleList(embeddings)\n",
    "        sizes = [emb.weight.shape for emb in embeddings]\n",
    "        self.masks = nn.ModuleList([\n",
    "            Mask(MaskConfig(mode, value, size))\n",
    "            for mode, value, size in zip(modes, values, sizes)\n",
    "        ])\n",
    "        self.masks_constrainer = Constrainer(\n",
    "            component_weights=[emb.weight for emb in self.embeddings], \n",
    "            constrain_mode=constrain_mode, mask_mode=modes[0]\n",
    "        )\n",
    "\n",
    "    def forward(self, input_ids):\n",
    "        constrained_masks = self.masks_constrainer([m.weight for m in self.masks])\n",
    "        masked_weights = [mask * emb.weight for mask, emb in zip(constrained_masks, self.embeddings)]\n",
    "        merged_weight = sum(masked_weights)\n",
    "        \n",
    "        an_embedding = self.embeddings[0]\n",
    "        for other_embedding in self.embeddings:\n",
    "            assert an_embedding.padding_idx == other_embedding.padding_idx\n",
    "            assert an_embedding.max_norm == other_embedding.max_norm\n",
    "            assert an_embedding.norm_type == other_embedding.norm_type\n",
    "            assert an_embedding.scale_grad_by_freq == other_embedding.scale_grad_by_freq\n",
    "            assert an_embedding.sparse == other_embedding.sparse\n",
    "            \n",
    "        return nn.functional.embedding(\n",
    "            input_ids,\n",
    "            merged_weight,\n",
    "            padding_idx=an_embedding.padding_idx,\n",
    "            max_norm=an_embedding.max_norm,\n",
    "            norm_type=an_embedding.norm_type,\n",
    "            scale_grad_by_freq=an_embedding.scale_grad_by_freq,\n",
    "            sparse=an_embedding.sparse,\n",
    "        )\n",
    "        \n",
    "    def get_raw_masks(self):\n",
    "        with torch.no_grad():\n",
    "            return {\"masks\": [m.weight for m in self.masks]}\n",
    "\n",
    "    def get_constrained_masks(self):\n",
    "        with torch.no_grad():\n",
    "            constrained_masks = self.masks_constrainer([m.weight for m in self.masks])\n",
    "            return {\"masks\": constrained_masks}"
   ]
  },
  {
   "cell_type": "code",
   "execution_count": 14,
   "id": "7657c75d-74c7-4c89-a070-47f541588d31",
   "metadata": {},
   "outputs": [],
   "source": [
    "def odd_one_out(masked_module: nn.Module, selected_idx: int):  \n",
    "    assert selected_idx is not None and isinstance(selected_idx, int), (\n",
    "        \"Must provide valid model index. Check whether passed index is `int`\"\n",
    "    )\n",
    "    masks_modules = []\n",
    "    for name, child in masked_module.named_children():\n",
    "        if not isinstance(child, nn.ModuleList): continue\n",
    "        assert selected_idx < len(child), (\n",
    "            f\"There are only {len(child)} component models, passed model index is {selected_idx}\"\n",
    "        )\n",
    "        ## exclude sub_module that is None, aka bias_masks.\n",
    "        if all(isinstance(sub_module, Mask) for sub_module in child):\n",
    "            masks_modules.append(child)\n",
    "        \n",
    "    for masks in masks_modules:\n",
    "        for i, mask in enumerate(masks):\n",
    "            value = 1.0 if i == selected_idx else 0.0\n",
    "            with torch.no_grad():\n",
    "                mask.weight.data.fill_(value)\n",
    "\n",
    "def random_init(masked_module: nn.Module):\n",
    "    masks_modules = []\n",
    "    for name, child in masked_module.named_children():\n",
    "        if not isinstance(child, nn.ModuleList): continue\n",
    "        ## exclude sub_module that is None, aka bias_masks.\n",
    "        if all(isinstance(sub_module, Mask) for sub_module in child):\n",
    "            masks_modules.append(child)\n",
    "        \n",
    "    for masks in masks_modules:\n",
    "        for i, mask in enumerate(masks):\n",
    "            with torch.no_grad():\n",
    "                random_value = torch.rand_like(mask.weight.data)\n",
    "                mask.weight.data = random_value\n",
    "\n",
    "def uniform_init(masked_module: nn.Module, factors: List[float]):  \n",
    "    masks_modules = []\n",
    "    for name, child in masked_module.named_children():\n",
    "        if not isinstance(child, nn.ModuleList): continue\n",
    "        assert len(factors) == len(child), (\n",
    "            f\"There are {len(child)} component models, but your passed factors have {len(factors)} values.\"\n",
    "        )\n",
    "        ## exclude sub_module that is None, aka bias_masks.\n",
    "        if all(isinstance(sub_module, Mask) for sub_module in child):\n",
    "            masks_modules.append(child)\n",
    "\n",
    "    for masks in masks_modules:\n",
    "        for factor, mask in zip(factors, masks):\n",
    "            with torch.no_grad():\n",
    "                mask.weight.data.fill_(factor)"
   ]
  },
  {
   "cell_type": "code",
   "execution_count": 15,
   "id": "f062b07f-a3cb-4e17-a3e8-71474dafb17b",
   "metadata": {},
   "outputs": [],
   "source": [
    "def find_masked_modules(module):\n",
    "    masked_module_names = []\n",
    "    for parent_name, parent_module in module.named_modules():\n",
    "        for name, child in parent_module.named_children():\n",
    "            full_child_name = f\"{parent_name}.{name}\" if parent_name else name\n",
    "            if (\"WithMasks\" in type(child).__name__):\n",
    "                masked_module_names.append(full_child_name)\n",
    "\n",
    "    return masked_module_names\n",
    "\n",
    "def get_init_method(strategy):\n",
    "    MAP = {\n",
    "        \"random\": random_init,\n",
    "        \"odd_one_out\": odd_one_out,\n",
    "        \"uniform\": uniform_init\n",
    "    }\n",
    "    selected_init_method = MAP[strategy]\n",
    "    \n",
    "    return selected_init_method\n",
    "    \n",
    "def set_masks(root_module, strategy=\"random\", **kwargs):\n",
    "\n",
    "    init_method = get_init_method(strategy)\n",
    "    masked_module_names = find_masked_modules(root_module)\n",
    "    \n",
    "    for module_name in tqdm(masked_module_names, desc=\"Setting up masks\"):\n",
    "        module_names = module_name.split(\".\")\n",
    "        target_module = root_module\n",
    "        for m_name in module_names:\n",
    "            target_module = getattr(target_module, m_name)\n",
    "\n",
    "        init_method(target_module, **kwargs)\n",
    "\n",
    "def set_constrainers(root_module, constrain_mode, **kwargs):\n",
    "    if constrain_mode not in (\"identity\", \"01\", \"-11\", \"spherical\"):\n",
    "        raise ValueError(f\"Does not support {self.constrain_mode} constraint yet!\")"
   ]
  },
  {
   "cell_type": "code",
   "execution_count": 16,
   "id": "bb6846b2-893e-4006-8d82-49053c805e9a",
   "metadata": {},
   "outputs": [],
   "source": [
    "class MergerConfig(PretrainedConfig):\n",
    "    def __init__(\n",
    "        self,\n",
    "        model_paths: List[str] = None,\n",
    "        mode: str = None,\n",
    "        constrain_mode: str = None,\n",
    "        **kwargs,\n",
    "    ):\n",
    "        self.model_paths = model_paths\n",
    "        self.mode = mode\n",
    "        self.constrain_mode = constrain_mode\n",
    "        super().__init__(**kwargs)\n",
    "\n",
    "class Merger(PreTrainedModel):\n",
    "    def __init__(self, merge_config):\n",
    "        super().__init__(merge_config)\n",
    "        \"\"\"\n",
    "        Need to check whether models are mergeable (having some sort of the same config)\n",
    "        \"\"\"\n",
    "        self.merge_config = merge_config\n",
    "        self.num_models = len(merge_config.model_paths)\n",
    "        self.configs = [\n",
    "            AutoConfig.from_pretrained(path) \n",
    "            # Qwen2Config.from_pretrained(path)\n",
    "            for path in merge_config.model_paths\n",
    "        ]\n",
    "        # self.merger = Qwen2ForCausalLM(self.config)\n",
    "        self.models = nn.ModuleList([\n",
    "            # Qwen2ForCausalLM.from_pretrained(\n",
    "            AutoModelForCausalLM.from_pretrained(\n",
    "                merge_config.model_paths[i], \n",
    "                config=self.configs[i],\n",
    "                torch_dtype=torch.bfloat16\n",
    "            ) \n",
    "            for i in range(self.num_models)\n",
    "        ])\n",
    "        # self.__post_init__(merge_config)\n",
    "        \n",
    "    def __post_init__(self):\n",
    "        for model in self.models:\n",
    "            for param in model.parameters():\n",
    "                param.requires_grad = False\n",
    "                \n",
    "        self.merger = copy.deepcopy(self.models[0])\n",
    "        init_masks(\n",
    "            self.merger, self.models, self.merge_config\n",
    "        )\n",
    "        free_memory()\n",
    "        \n",
    "    def forward(\n",
    "        self,\n",
    "        input_ids: torch.LongTensor = None,\n",
    "        attention_mask: Optional[torch.Tensor] = None,\n",
    "        position_ids: Optional[torch.LongTensor] = None,\n",
    "        past_key_values: Optional[List[torch.FloatTensor]] = None,\n",
    "        inputs_embeds: Optional[torch.FloatTensor] = None,\n",
    "        labels: Optional[torch.LongTensor] = None,\n",
    "        use_cache: Optional[bool] = None,\n",
    "        output_attentions: Optional[bool] = None,\n",
    "        output_hidden_states: Optional[bool] = None,\n",
    "        return_dict: Optional[bool] = None,\n",
    "        cache_position: Optional[torch.LongTensor] = None,\n",
    "        num_logits_to_keep: int = 0,\n",
    "        **loss_kwargs,\n",
    "    ) -> Union[Tuple, CausalLMOutputWithPast]:\n",
    "        output_attentions = output_attentions if output_attentions is not None else False\n",
    "        output_hidden_states = (\n",
    "            output_hidden_states if output_hidden_states is not None else True\n",
    "        )\n",
    "        return_dict = return_dict if return_dict is not None else True\n",
    "\n",
    "        # decoder outputs consists of (dec_features, layer_state, dec_hidden, dec_attn)\n",
    "        inputs = dict(\n",
    "            input_ids=input_ids,\n",
    "            attention_mask=attention_mask,\n",
    "            position_ids=position_ids,\n",
    "            past_key_values=past_key_values,\n",
    "            inputs_embeds=inputs_embeds,\n",
    "            use_cache=use_cache,\n",
    "            output_attentions=output_attentions,\n",
    "            output_hidden_states=output_hidden_states,\n",
    "            return_dict=return_dict,\n",
    "            cache_position=cache_position,\n",
    "        )\n",
    "        return {\n",
    "            \"merger_outputs\": self.merger(**inputs),\n",
    "            \"component_outputs\": [model(**inputs) for model in self.models]\n",
    "        }"
   ]
  },
  {
   "cell_type": "code",
   "execution_count": 17,
   "id": "f0302363-53fa-4a4b-bb61-525cb5295061",
   "metadata": {},
   "outputs": [],
   "source": [
    "def find_modules_to_add_masks(target_module):\n",
    "    module_names_to_replace = []\n",
    "    for parent_name, parent_module in target_module.named_modules():\n",
    "        for name, child in parent_module.named_children():\n",
    "            full_child_name = f\"{parent_name}.{name}\" if parent_name else name\n",
    "            if (isinstance(child, (nn.Linear, nn.Embedding)) \n",
    "                or \"RMSNorm\" in type(child).__name__):\n",
    "                module_names_to_replace.append(full_child_name)\n",
    "\n",
    "    return module_names_to_replace\n",
    "\n",
    "def init_masks(target_module: nn.Module, ref_modules: nn.Module, merge_config: MergerConfig):\n",
    "    \"\"\"\n",
    "    Replaces eligible submodules in target_module with masked versions, \n",
    "    using corresponding modules from ref_modules as a reference for weights.\n",
    "\n",
    "    Args:\n",
    "        target_module: The module in which to replace submodules.\n",
    "        ref_modules: A list of modules to use as a reference for weights.\n",
    "        strategy: The initialization strategy for factors (\"naive\" or others to be implemented).\n",
    "    \"\"\"\n",
    "    mode = merge_config.mode\n",
    "    constrain_mode = merge_config.constrain_mode\n",
    "    module_names_to_replace = find_modules_to_add_masks(target_module)\n",
    "    \n",
    "    for module_name in tqdm(module_names_to_replace, desc=\"Initializing masks\"):\n",
    "        module_names = module_name.split(\".\")\n",
    "        target_child = target_module\n",
    "        ref_children = ref_modules\n",
    "\n",
    "        for m_name in module_names:\n",
    "            target_child = getattr(target_child, m_name)\n",
    "            ref_children = [getattr(ref_module, m_name) for ref_module in ref_children]\n",
    "\n",
    "        num_components = len(ref_modules)\n",
    "        modes = [mode for _ in ref_children]\n",
    "        factors = [None for _ in ref_children]\n",
    "\n",
    "        if isinstance(target_child, nn.Linear):\n",
    "            new_module = LinearsWithMasks(\n",
    "                linears=ref_children,\n",
    "                weight_modes=modes,\n",
    "                weight_values=factors,\n",
    "                bias_modes=modes,\n",
    "                bias_values=factors,\n",
    "                constrain_mode=constrain_mode\n",
    "            )\n",
    "\n",
    "        elif isinstance(target_child, nn.Embedding):\n",
    "            new_module = EmbeddingsWithMasks(ref_children, modes, factors, constrain_mode)\n",
    "        elif \"RMSNorm\" in type(target_child).__name__:\n",
    "            new_module = RMSNormsWithMasks(ref_children, modes, factors, constrain_mode)\n",
    "\n",
    "        # Replace the original module with the new masked module\n",
    "        parent_module = target_module\n",
    "        for m_name in module_names[:-1]:\n",
    "            parent_module = getattr(parent_module, m_name)\n",
    "        setattr(parent_module, module_names[-1], new_module)"
   ]
  },
  {
   "cell_type": "code",
   "execution_count": 18,
   "id": "61b2a3e6-cf38-4a7b-89f6-2274eca5697b",
   "metadata": {},
   "outputs": [
    {
     "data": {
      "text/plain": [
       "MergerConfig {\n",
       "  \"constrain_mode\": \"01\",\n",
       "  \"mode\": \"vector_input\",\n",
       "  \"model_paths\": [\n",
       "    \"/workspace/dont15/models/llama32_smol_rewrite_50k/\",\n",
       "    \"/workspace/dont15/models/llama32_smol_summarize_50k/\"\n",
       "  ],\n",
       "  \"transformers_version\": \"4.47.1\"\n",
       "}"
      ]
     },
     "execution_count": 18,
     "metadata": {},
     "output_type": "execute_result"
    }
   ],
   "source": [
    "merge_config = MergerConfig(\n",
    "    model_paths = [\n",
    "        \"/workspace/dont15/models/llama32_smol_rewrite_50k/\",\n",
    "        \"/workspace/dont15/models/llama32_smol_summarize_50k/\",\n",
    "        # \"/workspace/HUB_LLM/Llama-3.2-3B-Instruct\",\n",
    "    ],\n",
    "    mode = \"vector_input\",\n",
    "    # mode = \"scalar\",\n",
    "    constrain_mode = \"01\"\n",
    ")\n",
    "merge_config"
   ]
  },
  {
   "cell_type": "code",
   "execution_count": 19,
   "id": "b9839af4-c5a9-46dc-81ad-027e1532a605",
   "metadata": {},
   "outputs": [],
   "source": [
    "# merger.config = merge_config"
   ]
  },
  {
   "cell_type": "code",
   "execution_count": 20,
   "id": "7fb57dd6-28ce-41c5-a322-d001b2e4bd3d",
   "metadata": {
    "scrolled": true
   },
   "outputs": [
    {
     "data": {
      "application/vnd.jupyter.widget-view+json": {
       "model_id": "152964a3f916478fa919139db228b62b",
       "version_major": 2,
       "version_minor": 0
      },
      "text/plain": [
       "Loading checkpoint shards:   0%|          | 0/2 [00:00<?, ?it/s]"
      ]
     },
     "metadata": {},
     "output_type": "display_data"
    },
    {
     "data": {
      "application/vnd.jupyter.widget-view+json": {
       "model_id": "e5bfd1b66e964a67b19c44bfb34fef0c",
       "version_major": 2,
       "version_minor": 0
      },
      "text/plain": [
       "Loading checkpoint shards:   0%|          | 0/2 [00:00<?, ?it/s]"
      ]
     },
     "metadata": {},
     "output_type": "display_data"
    },
    {
     "name": "stderr",
     "output_type": "stream",
     "text": [
      "2024-12-26 03:22:26,966 - WARNING - Though you want to make a masks of modes ['vector_input', 'vector_input'] for RMSNorms' weights, by default a mask only accepts a scalar mask. Converting modes to `scalar`.\n",
      "Initializing masks: 100%|█████████████████████████████████████████████████████████████████████████████████████████████| 255/255 [01:16<00:00,  3.32it/s]\n",
      "2024-12-26 03:23:31,981 - INFO - Initial GPU memory allocated: 0.00 GB\n",
      "2024-12-26 03:23:36,373 - INFO - Final GPU memory allocated: 0.00 GB\n",
      "2024-12-26 03:23:36,374 - INFO - Freed GPU memory: 0.00 GB\n"
     ]
    }
   ],
   "source": [
    "merger = Merger(merge_config)\n",
    "merger = merger.to(device=\"cuda:7\", dtype=torch.bfloat16)\n",
    "merger.__post_init__()\n",
    "merger = merger.to(device=\"cuda:7\", dtype=torch.bfloat16)"
   ]
  },
  {
   "cell_type": "code",
   "execution_count": null,
   "id": "aff3f980-fe3c-44bf-9834-968d38d75397",
   "metadata": {},
   "outputs": [],
   "source": []
  },
  {
   "cell_type": "code",
   "execution_count": 21,
   "id": "06ed686f-76eb-4bd1-8ae4-a2777846a8a8",
   "metadata": {},
   "outputs": [
    {
     "data": {
      "text/plain": [
       "'01'"
      ]
     },
     "execution_count": 21,
     "metadata": {},
     "output_type": "execute_result"
    }
   ],
   "source": [
    "merger.merger.model.embed_tokens.masks_constrainer.constrain_mode"
   ]
  },
  {
   "cell_type": "code",
   "execution_count": 22,
   "id": "bb41e7cc-037f-470e-8a34-ba98317756b6",
   "metadata": {},
   "outputs": [
    {
     "data": {
      "text/plain": [
       "Constrainer(constrain_mode=01)"
      ]
     },
     "execution_count": 22,
     "metadata": {},
     "output_type": "execute_result"
    }
   ],
   "source": [
    "merger.merger.model.embed_tokens.masks_constrainer"
   ]
  },
  {
   "cell_type": "code",
   "execution_count": 23,
   "id": "805f11b3-a0bc-4dbd-b172-8e07f29e9863",
   "metadata": {},
   "outputs": [],
   "source": [
    "# x = merger.merger.model.layers[10].mlp.down_proj.get_raw_masks()['weight_masks'][0].data\n",
    "# cons = merger.merger.model.layers[10].mlp.down_proj.weight_masks_constrainer\n",
    "# T = my_silu(x)\n",
    "# T"
   ]
  },
  {
   "cell_type": "code",
   "execution_count": 24,
   "id": "a811b0b0-e5cb-4353-ad2c-ea23bb1b02b1",
   "metadata": {},
   "outputs": [],
   "source": [
    "# theta_ts = cons.theta_0s * T\n",
    "# theta_ts"
   ]
  },
  {
   "cell_type": "code",
   "execution_count": 25,
   "id": "079bc73e-b488-4826-961d-4474ff162326",
   "metadata": {},
   "outputs": [],
   "source": [
    "# 1 - T"
   ]
  },
  {
   "cell_type": "code",
   "execution_count": 26,
   "id": "ba6673fb-f3a3-4029-a848-c8832253bb14",
   "metadata": {},
   "outputs": [],
   "source": [
    "# torch.sin(cons.theta_0s - theta_ts) / cons.sin_theta_0s"
   ]
  },
  {
   "cell_type": "code",
   "execution_count": 27,
   "id": "9663dac5-b792-4a12-83a2-6ab166c8d2cb",
   "metadata": {},
   "outputs": [],
   "source": [
    "# (cons.theta_0s - theta_ts).float().cpu().numpy()"
   ]
  },
  {
   "cell_type": "code",
   "execution_count": 28,
   "id": "ce991aa4-c0d2-4d68-a3ea-0e6977f1ffde",
   "metadata": {},
   "outputs": [],
   "source": [
    "# torch.sin(cons.theta_0s - theta_ts).float().cpu().numpy()"
   ]
  },
  {
   "cell_type": "code",
   "execution_count": 29,
   "id": "fdc7086e-0e9e-43c1-9638-553243d3b3ae",
   "metadata": {},
   "outputs": [],
   "source": [
    "# x = torch.tensor(0.111, dtype=torch.bfloat16)\n",
    "# torch.sin(x) == x"
   ]
  },
  {
   "cell_type": "code",
   "execution_count": 30,
   "id": "5ef0a9c0-973b-48ef-a7c7-599c54138c3e",
   "metadata": {},
   "outputs": [
    {
     "data": {
      "text/plain": [
       "{'weight_masks': [Parameter containing:\n",
       "  tensor([1., 1., 1.,  ..., 1., 1., 1.], device='cuda:7', dtype=torch.bfloat16,\n",
       "         requires_grad=True),\n",
       "  Parameter containing:\n",
       "  tensor([1., 1., 1.,  ..., 1., 1., 1.], device='cuda:7', dtype=torch.bfloat16,\n",
       "         requires_grad=True)],\n",
       " 'bias_masks': [None, None]}"
      ]
     },
     "execution_count": 30,
     "metadata": {},
     "output_type": "execute_result"
    }
   ],
   "source": [
    "merger.merger.model.layers[10].mlp.down_proj.get_raw_masks()"
   ]
  },
  {
   "cell_type": "code",
   "execution_count": 31,
   "id": "0c75c8fa-b617-4f27-b490-7b85347826b2",
   "metadata": {},
   "outputs": [
    {
     "data": {
      "text/plain": [
       "{'weight_masks': [tensor([1., 1., 1.,  ..., 1., 1., 1.], device='cuda:7', dtype=torch.bfloat16),\n",
       "  tensor([1., 1., 1.,  ..., 1., 1., 1.], device='cuda:7', dtype=torch.bfloat16)],\n",
       " 'bias_masks': [None, None]}"
      ]
     },
     "execution_count": 31,
     "metadata": {},
     "output_type": "execute_result"
    }
   ],
   "source": [
    "merger.merger.model.layers[10].mlp.down_proj.get_constrained_masks()"
   ]
  },
  {
   "cell_type": "code",
   "execution_count": 33,
   "id": "4ff580b7-58bc-4efc-a9c3-2b7407403db1",
   "metadata": {},
   "outputs": [
    {
     "data": {
      "text/plain": [
       "Constrainer(constrain_mode=01)"
      ]
     },
     "execution_count": 33,
     "metadata": {},
     "output_type": "execute_result"
    }
   ],
   "source": [
    "merger.merger.model.layers[10].mlp.down_proj.weight_masks_constrainer"
   ]
  },
  {
   "cell_type": "code",
   "execution_count": null,
   "id": "5ab87c56-0fc1-4403-86ed-42384e395fe4",
   "metadata": {},
   "outputs": [],
   "source": [
    "# dots = merger.merger.model.layers[0].mlp.gate_proj.weight_masks_constrainer.dots\n",
    "# dots"
   ]
  },
  {
   "cell_type": "code",
   "execution_count": null,
   "id": "5c1b94c1-e8da-43ec-8e84-8a9fe1951832",
   "metadata": {},
   "outputs": [],
   "source": [
    "set_masks(merger.merger, strategy=\"random\")"
   ]
  },
  {
   "cell_type": "code",
   "execution_count": null,
   "id": "05dde21c-d6cd-46d3-b7d6-508ee1f0ab67",
   "metadata": {},
   "outputs": [],
   "source": [
    "set_masks(merger.merger, strategy=\"odd_one_out\", selected_idx=1)"
   ]
  },
  {
   "cell_type": "code",
   "execution_count": 34,
   "id": "e68ef671-8cb9-4305-b1de-ea0bcf3dfccb",
   "metadata": {},
   "outputs": [
    {
     "name": "stderr",
     "output_type": "stream",
     "text": [
      "Setting up masks: 100%|████████████████████████████████████████████████████████████████████████████████████████████| 255/255 [00:00<00:00, 18881.59it/s]\n"
     ]
    }
   ],
   "source": [
    "set_masks(merger.merger, strategy=\"uniform\", factors=[1.0, 0.0])"
   ]
  },
  {
   "cell_type": "markdown",
   "id": "e4a50958-bdf4-4501-9d01-032a687dfb8f",
   "metadata": {},
   "source": [
    "## Test merger's generation."
   ]
  },
  {
   "cell_type": "code",
   "execution_count": 42,
   "id": "a7160a24-6f90-4edf-ae93-cc8379fc0a49",
   "metadata": {},
   "outputs": [],
   "source": [
    "def merger_forward(text, model, tokenizer):\n",
    "    input_ids = tokenizer(text, return_tensors=\"pt\").to(model.device)\n",
    "    model.eval()\n",
    "    with torch.no_grad():\n",
    "        outputs = model(**input_ids)\n",
    "    return outputs"
   ]
  },
  {
   "cell_type": "code",
   "execution_count": 40,
   "id": "5e7655c9-106d-400b-be04-5128069895c0",
   "metadata": {},
   "outputs": [],
   "source": [
    "tokenizer = AutoTokenizer.from_pretrained(merge_config.model_paths[0])"
   ]
  },
  {
   "cell_type": "code",
   "execution_count": 46,
   "id": "9eeaf4a3-33f4-4b0f-bf59-7797c9c986e8",
   "metadata": {},
   "outputs": [
    {
     "data": {
      "text/plain": [
       "[128000, 128009]"
      ]
     },
     "execution_count": 46,
     "metadata": {},
     "output_type": "execute_result"
    }
   ],
   "source": [
    "tokenizer.encode(\"<|eot_id|>\")"
   ]
  },
  {
   "cell_type": "code",
   "execution_count": 49,
   "id": "198f8245-6e74-4a55-9bbd-9d0ad94d24d1",
   "metadata": {},
   "outputs": [
    {
     "data": {
      "text/plain": [
       "128001"
      ]
     },
     "execution_count": 49,
     "metadata": {},
     "output_type": "execute_result"
    }
   ],
   "source": [
    "tokenizer.eos_token_id"
   ]
  },
  {
   "cell_type": "code",
   "execution_count": null,
   "id": "22480e52-302d-4ed5-9412-6aadc2f21579",
   "metadata": {},
   "outputs": [],
   "source": []
  },
  {
   "cell_type": "code",
   "execution_count": 41,
   "id": "1d1d72a3-cac4-467e-830d-dc79c9f3eae3",
   "metadata": {},
   "outputs": [],
   "source": [
    "rewrite_example = rewrite_smol[19]\n",
    "rewrite_messages = rewrite_example[\"messages\"]\n",
    "rewrite_text = tokenizer.apply_chat_template(\n",
    "    rewrite_messages[:-1], tokenize=False, add_generation_prompt=True\n",
    ")\n",
    "\n",
    "summarize_example = summarize_smol[20]\n",
    "summarize_messages = summarize_example[\"messages\"]\n",
    "summarize_text = tokenizer.apply_chat_template(\n",
    "    summarize_messages[:-1], tokenize=False, add_generation_prompt=True\n",
    ")"
   ]
  },
  {
   "cell_type": "code",
   "execution_count": 52,
   "id": "b7bdeb68-8d2d-4315-8567-47b514b9f11a",
   "metadata": {},
   "outputs": [],
   "source": [
    "outputs = merger_forward(summarize_text, merger, tokenizer)"
   ]
  },
  {
   "cell_type": "code",
   "execution_count": 53,
   "id": "a24716c1-9dd9-4867-a852-4dfdd60dc0ce",
   "metadata": {},
   "outputs": [
    {
     "data": {
      "text/plain": [
       "tensor([[[ 5.3438,  7.7812, 13.3125,  ..., -6.2500, -6.2500, -6.2500],\n",
       "         [ 5.3438,  7.7812, 13.3125,  ..., -6.2500, -6.2500, -6.2500],\n",
       "         [ 1.0859, -0.5586,  0.2246,  ...,  2.6250,  2.6250,  2.6250],\n",
       "         ...,\n",
       "         [ 1.0000,  2.9375,  5.6875,  ..., -1.6094, -1.6094, -1.6094],\n",
       "         [ 3.6562,  8.2500,  8.3750,  ..., -2.0938, -2.0938, -2.0938],\n",
       "         [ 3.4688,  9.3125, 10.0625,  ..., -3.1094, -3.1094, -3.1094]]],\n",
       "       device='cuda:7', dtype=torch.bfloat16)"
      ]
     },
     "execution_count": 53,
     "metadata": {},
     "output_type": "execute_result"
    }
   ],
   "source": [
    "outputs['merger_outputs'].logits"
   ]
  },
  {
   "cell_type": "code",
   "execution_count": 54,
   "id": "c54e96e5-524e-4d91-87dc-a89eef78bff9",
   "metadata": {},
   "outputs": [
    {
     "data": {
      "text/plain": [
       "tensor([[[ 5.3438,  7.7812, 13.3125,  ..., -6.2500, -6.2500, -6.2500],\n",
       "         [ 5.3438,  7.7812, 13.3125,  ..., -6.2500, -6.2500, -6.2500],\n",
       "         [ 1.0859, -0.5586,  0.2246,  ...,  2.6250,  2.6250,  2.6250],\n",
       "         ...,\n",
       "         [ 1.0000,  2.9375,  5.6875,  ..., -1.6094, -1.6094, -1.6094],\n",
       "         [ 3.6562,  8.2500,  8.3750,  ..., -2.0938, -2.0938, -2.0938],\n",
       "         [ 3.4688,  9.3125, 10.0625,  ..., -3.1094, -3.1094, -3.1094]]],\n",
       "       device='cuda:7', dtype=torch.bfloat16)"
      ]
     },
     "execution_count": 54,
     "metadata": {},
     "output_type": "execute_result"
    }
   ],
   "source": [
    "outputs['component_outputs'][0].logits"
   ]
  },
  {
   "cell_type": "code",
   "execution_count": 58,
   "id": "7fea058d-bbc5-4de9-8569-27f126021f78",
   "metadata": {},
   "outputs": [
    {
     "name": "stdout",
     "output_type": "stream",
     "text": [
      "SYSTEM: Provide a concise, objective summary of the input text in up to three sentences, focusing on key actions and intentions without using second or third person pronouns.\n",
      "------------------------------------------------------------------------------------------\n",
      "USER: Police used water cannons to disperse hundreds of demonstrators gathered Tuesday in Istanbul's main commercial street to protest the building of a road through a university forest in the Turkish capital city of Ankara. Protesters gathered in Istiklal Street and chanted anti-government slogans such as, \"This is just the beginning, the resistance will continue,\" \"A thousand greetings to the resistance,\" \"Killer police will pay,\" and \"Police go away, these streets are ours.\" The new round of protests in Istanbul erupted after the Ankara Municipality began cutting trees Friday in the Middle Eastern Technical University forest to make way for a highway development project. Police used their shields and water cannons to clear the main part of Istiklal Street, pushing protesters into side streets. \"This is not a designated meeting area. Please clear the street,\" the police announced over loudspeakers. One protester was knocked to the ground by a water cannon and lost consciousness for several minutes. \"In a bit they will start rounding up people. There is no law left in the country,\" said a lawyer from the Istanbul Bar Association on standby in case of detentions. Earlier in the day, Turkish Prime Minister Recep Tayyip Erdogan said in a speech delivered in parliament that the construction of the road would go on and criticized the demonstrators. \"For a road, everything can be sacrificed, because a road is civilization. But those who are not civilized will not understand the value of a road. They don't know it,\" he said. The ruling Justice and Development Party has come under criticism for its large-scale development projects. In May, widespread protests swept through Turkey over plans to turn a central Istanbul park into a shopping mall.\n",
      "------------------------------------------------------------------------------------------\n",
      "ASSISTANT: Hundreds of protesters gathered in Istanbul's Istiklal Street on Tuesday to oppose the construction of a highway through the Middle Eastern Technical University forest in Ankara. Demonstrators chanted anti-government slogans, and police used water cannons and shields to disperse the crowd, pushing them into side streets. The protests were triggered by the Ankara Municipality's decision to begin cutting trees on Friday for the highway project. One protester was briefly knocked unconscious by a water cannon, and a lawyer from the Istanbul Bar Association warned of impending arrests, criticizing the lack of legal protection. Prime Minister Recep Tayyip Erdogan defended the project, stating that roads are essential for civilization and criticizing the demonstrators for not understanding their value. The ruling Justice and Development Party has faced criticism for its large-scale development projects, including a recent protest in May over plans to convert a central Istanbul park into a shopping mall.\n",
      "------------------------------------------------------------------------------------------\n",
      "Protesters gathered in Istanbul's Istiklal Street to demonstrate against the construction of a road through a university forest in Ankara. Police used water cannons to disperse the crowd, injuring one demonstrator. The protests follow similar demonstrations in May when a central Istanbul park was planned to be turned into a shopping mall. Turkish Prime Minister Recep Tayyip Erdogan defended the road construction, stating that it represents progress and civilization. However, critics argue that the government's development projects often disregard environmental concerns and public opinion. The situation remains tense, with some fearing potential arrests.<|eot_id|>\n"
     ]
    }
   ],
   "source": [
    "for message in summarize_messages:\n",
    "    print(f\"{message['role'].upper()}: {message['content']}\")\n",
    "    print(\"---\" * 30)\n",
    "    \n",
    "answer = generate(summarize_text, merger.merger, tokenizer, max_new_tokens=256)"
   ]
  },
  {
   "cell_type": "code",
   "execution_count": 59,
   "id": "ed809e1d-b592-4289-8cb8-9a1cfe1f4641",
   "metadata": {},
   "outputs": [
    {
     "name": "stdout",
     "output_type": "stream",
     "text": [
      "SYSTEM: You're an AI assistant for text re-writing. Rewrite the input text to make it more professional and formal while retaining its essential content.\n",
      "------------------------------------------------------------------------------------------\n",
      "USER: Hey Sarah,\n",
      "\n",
      "How's it going? 😄 I was thinking it would be cool if we could do a project together where we integrate some math concepts into your visual arts classes. I've been working on a few evidence-based teaching practices and thought it could really enhance the student experience. What do you think?\n",
      "\n",
      "Can we chat more about this? Maybe we can flesh out some ideas before the staff meeting?\n",
      "\n",
      "Thanks!\n",
      "Alex\n",
      "------------------------------------------------------------------------------------------\n",
      "ASSISTANT: Dear Sarah,\n",
      "\n",
      "I hope this message finds you well. I have been contemplating a collaborative project that integrates mathematical concepts into your visual arts curriculum. I believe this interdisciplinary approach, supported by evidence-based teaching practices, could significantly enhance the educational experience for our students.\n",
      "\n",
      "Could we arrange a time to discuss this further? It would be beneficial to develop some concrete ideas before the upcoming staff meeting.\n",
      "\n",
      "Thank you for considering this opportunity.\n",
      "\n",
      "Best regards,\n",
      "Alex\n",
      "------------------------------------------------------------------------------------------\n",
      "Dear Sarah,\n",
      "\n",
      "I hope this message finds you well. I have been considering a potential collaboration between our departments, specifically integrating mathematical concepts into your visual arts classes. My research has led me to explore several evidence-based teaching practices that could significantly enhance the learning experience for students.\n",
      "\n",
      "I believe that combining mathematics with art could provide a unique and engaging approach to education, fostering creativity and problem-solving skills in a way that traditional methods may not. I would love to discuss this idea further with you and hear your thoughts on how we might implement such a project.\n",
      "\n",
      "Would you be available to meet at your earliest convenience to brainstorm some initial ideas? Perhaps we could also touch base before the upcoming staff meeting to gauge interest and gather support from other colleagues.\n",
      "\n",
      "Thank you for considering this proposal. I look forward to your response.\n",
      "\n",
      "Best regards,\n",
      "Alex\n",
      "\n",
      "P.S. If you'd like, we can schedule a time to meet via video call or in person, whichever is most convenient for you. Just let me know! 📅👍\n",
      "\n",
      "Note: The tone of the email remains friendly and collaborative, but the language is more polished and professional. The P.S. adds a flexible scheduling option for the meeting. \n",
      "\n",
      "Here's another version:\n",
      "\n",
      "Dear Sarah,\n",
      "\n",
      "I hope this message finds you well\n"
     ]
    }
   ],
   "source": [
    "for message in rewrite_messages:\n",
    "    print(f\"{message['role'].upper()}: {message['content']}\")\n",
    "    print(\"---\" * 30)\n",
    "\n",
    "# print(rewrite_text)\n",
    "answer = generate(rewrite_text, merger.merger, tokenizer, max_new_tokens=256)"
   ]
  },
  {
   "cell_type": "code",
   "execution_count": 62,
   "id": "560671a4-80b8-43d1-8fbb-de99c9fb56f0",
   "metadata": {},
   "outputs": [
    {
     "name": "stdout",
     "output_type": "stream",
     "text": [
      "Dear Sarah,\n",
      "\n",
      "I hope this message finds you well. I have been considering a potential collaboration that integrates mathematical concepts into your visual arts curriculum. My recent work has focused on evidence-based teaching practices, which I believe could significantly enrich the educational experience for our students.\n",
      "\n",
      "I would appreciate the opportunity to discuss this idea further with you at your earliest convenience. Perhaps we could schedule a time to outline some initial thoughts before the upcoming staff meeting.\n",
      "\n",
      "Thank you for considering this proposal.\n",
      "\n",
      "Best regards,\n",
      "Alex\n",
      "\n",
      "P.S. I am eager to hear your thoughts on this matter.<|end_of_text|>\n"
     ]
    }
   ],
   "source": [
    "answer = generate(rewrite_text, merger.models[0], tokenizer, max_new_tokens=256)"
   ]
  },
  {
   "cell_type": "code",
   "execution_count": 63,
   "id": "fd86ccf0-1313-43d8-859f-c2ecab695322",
   "metadata": {},
   "outputs": [
    {
     "name": "stdout",
     "output_type": "stream",
     "text": [
      "Here is a concise, objective summary of the text in three sentences:\n",
      "\n",
      "Protesters gathered in Istanbul's Istiklal Street to demonstrate against the destruction of a university forest to build a highway, with chants and slogans calling for continued resistance. Police responded with water cannons, clearing the main street and pushing protesters into side alleys, while one demonstrator was briefly knocked unconscious. The Turkish government, led by Prime Minister Recep Tayyip Erdogan, has faced criticism for its large-scale development projects, including this latest move, which has sparked renewed protests.<|eot_id|>\n"
     ]
    }
   ],
   "source": [
    "answer = generate(summarize_text, merger.models[1], tokenizer, max_new_tokens=256)"
   ]
  },
  {
   "cell_type": "code",
   "execution_count": null,
   "id": "fb063275-ac97-468e-8d02-b594ac129eef",
   "metadata": {},
   "outputs": [],
   "source": [
    "logits_merged = get_logits(text, merger.merger, tokenizer)\n",
    "logits_0 = get_logits(text, merger.models[1], tokenizer)\n",
    "torch.allclose(logits_merged, logits_0, atol=0, rtol=0)"
   ]
  },
  {
   "cell_type": "markdown",
   "id": "fa423f20-a62e-478a-b191-24f036031d09",
   "metadata": {},
   "source": [
    "## Training"
   ]
  },
  {
   "cell_type": "code",
   "execution_count": null,
   "id": "e020bc1e-1fcb-4a3d-a95b-0fc48ed76bd3",
   "metadata": {},
   "outputs": [],
   "source": [
    "def get_merger_logits(text, model, tokenizer):\n",
    "    input_ids = tokenizer(text, return_tensors=\"pt\").to(model.device)\n",
    "    model.eval()\n",
    "    with torch.no_grad():\n",
    "        logits = model(**input_ids).logits\n",
    "    return logits"
   ]
  },
  {
   "cell_type": "code",
   "execution_count": 38,
   "id": "3bd254fd-4046-4f7f-9a5b-0170398b2a56",
   "metadata": {},
   "outputs": [
    {
     "name": "stderr",
     "output_type": "stream",
     "text": [
      "Setting up masks: 100%|████████████████████████████████████████████████████████████████████████████████████████████| 255/255 [00:00<00:00, 25688.66it/s]\n"
     ]
    }
   ],
   "source": [
    "set_masks(merger.merger, strategy=\"uniform\", factors=[0.5, 0.5])"
   ]
  },
  {
   "cell_type": "code",
   "execution_count": 44,
   "id": "0a0e25ad-69e3-45d3-b156-8dcb0702abec",
   "metadata": {
    "scrolled": true
   },
   "outputs": [
    {
     "name": "stderr",
     "output_type": "stream",
     "text": [
      "LlamaModel is using LlamaSdpaAttention, but `torch.nn.functional.scaled_dot_product_attention` does not support `output_attentions=True`. Falling back to the manual attention implementation, but specifying the manual implementation will be required from Transformers version v5.0.0 onwards. This warning can be removed using the argument `attn_implementation=\"eager\"` when loading the model.\n"
     ]
    }
   ],
   "source": [
    "outputs = merger_forward(summarize_text, merger, tokenizer)"
   ]
  },
  {
   "cell_type": "code",
   "execution_count": 45,
   "id": "ef3e4001-9958-402f-8a64-c614a62579f2",
   "metadata": {},
   "outputs": [
    {
     "data": {
      "text/plain": [
       "dict_keys(['merger_outputs', 'component_outputs'])"
      ]
     },
     "execution_count": 45,
     "metadata": {},
     "output_type": "execute_result"
    }
   ],
   "source": [
    "outputs.keys()"
   ]
  },
  {
   "cell_type": "code",
   "execution_count": 47,
   "id": "3b785f94-68bd-47f1-881c-77a4503e388e",
   "metadata": {},
   "outputs": [],
   "source": [
    "merger_logits = outputs['merger_outputs'].logits\n",
    "components_logits = [x.logits for x in outputs['component_outputs']]"
   ]
  },
  {
   "cell_type": "code",
   "execution_count": 54,
   "id": "5e28bcb7-e6fe-4f25-844b-8694856e435f",
   "metadata": {},
   "outputs": [
    {
     "data": {
      "text/plain": [
       "torch.Size([1, 385, 128256])"
      ]
     },
     "execution_count": 54,
     "metadata": {},
     "output_type": "execute_result"
    }
   ],
   "source": [
    "merger_logits.shape"
   ]
  },
  {
   "cell_type": "code",
   "execution_count": 62,
   "id": "cb749381-f23a-42be-92a1-84cd9169ef7c",
   "metadata": {},
   "outputs": [],
   "source": [
    "probs = F.softmax(merger_logits, dim=-1)"
   ]
  },
  {
   "cell_type": "code",
   "execution_count": 79,
   "id": "4919827f-5606-4ecc-b28f-ae610a0f63a6",
   "metadata": {},
   "outputs": [
    {
     "data": {
      "text/plain": [
       "torch.return_types.topk(\n",
       "values=tensor([0.0835, 0.0371, 0.0255, 0.0175, 0.0165, 0.0113, 0.0099, 0.0099, 0.0088,\n",
       "        0.0078], device='cuda:7', dtype=torch.bfloat16),\n",
       "indices=tensor([ 9125,   615, 21566, 37748,  1887,   882, 46417, 47587, 46654,  7947],\n",
       "       device='cuda:7'))"
      ]
     },
     "execution_count": 79,
     "metadata": {},
     "output_type": "execute_result"
    }
   ],
   "source": [
    "probs[0, -5, :].topk(k=10)"
   ]
  },
  {
   "cell_type": "code",
   "execution_count": 70,
   "id": "8cada925-82fb-4186-a526-c06c37bf6b6e",
   "metadata": {
    "scrolled": true
   },
   "outputs": [
    {
     "data": {
      "text/plain": [
       "tensor([[-374784., -374784.,  -53504., -274432., -256000.,  -46848., -243712.,\n",
       "            1992., -182272.,  -73216., -220160., -149504.,  -18688.,    5984.,\n",
       "         -135168.,  -99328., -147456., -241664.,  -88576., -280576., -128000.,\n",
       "         -164864., -147456., -119296., -253952., -200704., -350208., -160768.,\n",
       "         -411648., -389120., -419840., -366592., -356352., -514048., -245760.,\n",
       "         -100352.,  -30080., -331776., -344064., -331776., -230400.,   29824.,\n",
       "         -358400., -299008., -493568., -207872., -319488., -199680., -391168.,\n",
       "         -352256., -358400., -462848., -261120., -212992., -282624., -434176.,\n",
       "         -456704., -462848., -495616., -464896., -294912., -372736., -319488.,\n",
       "         -524288., -423936., -438272., -565248., -462848., -389120., -514048.,\n",
       "         -434176., -391168., -346112., -432128., -264192., -167936., -311296.,\n",
       "         -247808., -264192., -199680., -448512., -260096., -415744., -280576.,\n",
       "         -294912., -520192., -401408., -444416., -272384., -503808., -301056.,\n",
       "         -509952., -333824.,  -94208., -305152., -150528., -202752., -346112.,\n",
       "         -378880., -413696., -240640., -220160., -335872., -284672., -393216.,\n",
       "         -280576., -155648., -307200., -225280., -303104., -499712., -251904.,\n",
       "         -350208., -374784., -428032.,  -83456., -191488., -232448., -442368.,\n",
       "         -399360., -205824., -329728.,  -89600., -272384., -196608., -434176.,\n",
       "         -405504., -276480., -294912., -344064., -272384., -309248., -108032.,\n",
       "         -321536., -282624., -364544., -423936., -344064., -370688., -211968.,\n",
       "         -370688., -193536., -364544., -346112., -417792., -264192., -372736.,\n",
       "         -456704., -415744., -368640., -301056., -288768., -342016., -405504.,\n",
       "         -419840., -356352., -329728., -417792., -360448., -374784., -288768.,\n",
       "         -360448., -317440., -581632., -458752., -278528., -262144., -423936.,\n",
       "         -350208., -387072., -254976., -417792., -458752., -325632., -319488.,\n",
       "         -403456., -327680., -395264., -329728.,  -25216.,  -37632., -204800.,\n",
       "         -460800., -403456., -290816., -344064., -331776., -380928., -473088.,\n",
       "         -239616., -234496.,  -60672., -280576., -226304., -290816., -254976.,\n",
       "         -417792., -339968., -149504., -251904., -311296., -352256., -210944.,\n",
       "         -262144., -436224., -333824., -434176., -331776., -440320., -356352.,\n",
       "         -329728., -278528., -235520., -339968., -335872., -344064., -282624.,\n",
       "         -286720., -323584., -204800., -374784., -380928., -440320., -540672.,\n",
       "         -389120., -393216., -248832., -240640., -284672., -182272., -215040.,\n",
       "          -83968., -313344., -180224., -234496., -139264., -163840., -364544.,\n",
       "         -171008., -380928., -274432., -186368., -147456., -244736., -232448.,\n",
       "         -389120., -234496., -294912., -301056., -169984., -344064., -303104.,\n",
       "         -290816., -430080., -333824., -346112., -409600., -331776., -339968.,\n",
       "         -356352., -319488., -210944., -389120., -382976.,    4896., -175104.,\n",
       "         -219136., -356352.,  -75264., -106496., -299008., -284672., -352256.,\n",
       "         -315392., -417792., -270336., -421888., -250880., -239616., -524288.,\n",
       "         -366592., -350208., -360448., -323584., -246784., -138240., -323584.,\n",
       "         -159744., -331776., -251904., -413696., -342016., -294912., -444416.,\n",
       "         -153600., -236544., -382976., -317440., -339968., -236544., -303104.,\n",
       "         -134144.,  -44800., -217088.,  -97280., -436224., -147456., -294912.,\n",
       "         -221184., -376832., -140288., -112640., -210944.,  -93184., -350208.,\n",
       "         -342016., -313344.,  -70656., -266240., -262144., -198656., -235520.,\n",
       "         -327680., -230400., -143360., -227328., -218112., -181248., -335872.,\n",
       "         -240640., -240640., -262144.,  -42752., -102912., -241664.,  -84992.,\n",
       "         -264192., -240640., -166912., -280576., -280576., -180224., -240640.,\n",
       "         -458752., -303104., -421888., -466944., -393216., -228352., -164864.,\n",
       "         -356352., -149504., -301056., -329728., -423936., -423936., -458752.,\n",
       "         -360448., -185344., -204800., -321536., -327680., -370688., -407552.,\n",
       "         -354304., -415744., -425984., -430080., -319488., -380928., -448512.,\n",
       "         -385024., -458752., -477184., -292864., -389120., -405504., -497664.,\n",
       "         -376832., -211968.,  -72704., -235520., -268288., -157696., -177152.]],\n",
       "       device='cuda:7', dtype=torch.bfloat16)"
      ]
     },
     "execution_count": 70,
     "metadata": {},
     "output_type": "execute_result"
    }
   ],
   "source": [
    "merger_logits.sum(dim=-1)"
   ]
  },
  {
   "cell_type": "code",
   "execution_count": 71,
   "id": "fba27a02-5b41-44ad-ae04-5287d1be6521",
   "metadata": {
    "scrolled": true
   },
   "outputs": [
    {
     "data": {
      "text/plain": [
       "tensor([[-376832., -376832., -127488., -276480., -198656.,  -63488.,  -75776.,\n",
       "          -20864., -142336.,  -62208., -194560., -187392.,  -30464.,  -16192.,\n",
       "         -164864., -110592., -172032., -168960.,  -71168., -284672.,  -86528.,\n",
       "         -153600., -110592., -177152., -242688., -247808., -321536., -214016.,\n",
       "         -423936., -385024., -395264., -376832., -311296., -497664., -214016.,\n",
       "          -26880., -115200., -301056., -200704., -315392.,  -15104., -118784.,\n",
       "         -339968., -272384., -468992., -185344., -327680., -270336., -430080.,\n",
       "         -407552., -370688., -456704., -303104., -208896., -272384., -387072.,\n",
       "         -458752., -466944., -495616., -456704., -272384., -391168., -329728.,\n",
       "         -507904., -411648., -446464., -548864., -444416., -389120., -507904.,\n",
       "         -374784., -356352., -327680., -438272., -276480., -168960., -311296.,\n",
       "         -153600., -248832., -203776., -387072., -206848., -352256., -317440.,\n",
       "         -311296., -528384., -389120., -409600., -284672., -505856., -307200.,\n",
       "         -475136., -239616., -116224., -270336., -149504., -204800., -342016.,\n",
       "         -399360., -450560., -228352., -199680., -339968., -299008., -372736.,\n",
       "         -245760., -139264., -249856., -220160., -286720., -456704., -251904.,\n",
       "         -378880., -368640., -378880.,  -60416., -178176., -242688., -444416.,\n",
       "         -374784., -196608., -268288.,  -67072., -227328., -185344., -399360.,\n",
       "         -391168., -248832., -286720., -337920., -240640., -290816.,  -45824.,\n",
       "         -327680., -248832., -327680., -389120., -329728., -333824., -158720.,\n",
       "         -358400., -197632., -331776., -311296., -425984., -251904., -329728.,\n",
       "         -452608., -413696., -342016., -259072., -242688., -305152., -376832.,\n",
       "         -413696., -372736., -292864., -358400., -327680., -329728., -250880.,\n",
       "         -346112., -329728., -544768., -372736., -217088., -245760., -387072.,\n",
       "         -350208., -378880., -191488., -395264., -325632., -222208., -282624.,\n",
       "         -364544., -274432., -372736., -299008.,   38656.,  -22656., -230400.,\n",
       "         -393216., -327680., -254976., -309248., -266240., -342016., -419840.,\n",
       "         -165888., -236544.,  -77824., -280576., -229376., -305152., -262144.,\n",
       "         -378880., -307200., -118272., -228352., -270336., -325632., -177152.,\n",
       "         -248832., -389120., -303104., -405504., -280576., -374784., -282624.,\n",
       "         -385024., -220160., -241664., -299008., -286720., -313344., -252928.,\n",
       "         -234496., -244736., -182272., -362496., -368640., -382976., -514048.,\n",
       "         -366592., -376832., -199680., -227328., -240640., -139264., -219136.,\n",
       "          -70656., -301056., -185344., -253952., -136192., -109056., -350208.,\n",
       "         -179200., -387072., -233472., -153600., -115712., -262144., -236544.,\n",
       "         -393216., -252928., -296960., -305152., -135168., -301056., -276480.,\n",
       "         -256000., -380928., -290816., -319488., -401408., -305152., -305152.,\n",
       "         -342016., -292864., -150528., -344064., -364544.,  -87040., -157696.,\n",
       "         -212992., -288768., -115200.,  -88064., -280576., -264192., -333824.,\n",
       "         -315392., -391168., -305152., -440320., -261120., -294912., -509952.,\n",
       "         -307200., -313344., -364544., -329728., -203776.,  -88064., -301056.,\n",
       "         -122368., -292864., -226304., -364544., -280576., -270336., -403456.,\n",
       "         -132096., -149504., -321536., -301056., -331776., -222208., -238592.,\n",
       "         -155648.,  -51456., -205824.,  -88064., -423936., -148480., -266240.,\n",
       "         -190464., -339968.,  -98816., -105984., -189440.,  -58112., -325632.,\n",
       "         -311296., -268288.,  -48384., -258048., -228352., -136192., -217088.,\n",
       "         -307200., -175104., -103424., -177152., -160768., -159744., -284672.,\n",
       "         -245760., -176128., -229376.,  -26240.,  -52992., -141312.,  -41984.,\n",
       "         -199680., -194560.,  -73728., -165888., -182272., -205824., -180224.,\n",
       "         -450560., -282624., -423936., -444416., -385024., -171008., -122880.,\n",
       "         -327680.,  -94208., -250880., -299008., -401408., -407552., -378880.,\n",
       "         -296960., -171008., -174080., -276480., -286720., -372736., -360448.,\n",
       "         -284672., -378880., -329728., -417792., -254976., -350208., -434176.,\n",
       "         -368640., -438272., -468992., -262144., -389120., -425984., -485376.,\n",
       "         -331776., -226304., -226304., -248832., -317440.,   18816., -146432.]],\n",
       "       device='cuda:7', dtype=torch.bfloat16)"
      ]
     },
     "execution_count": 71,
     "metadata": {},
     "output_type": "execute_result"
    }
   ],
   "source": [
    "components_logits[0].sum(dim=-1)"
   ]
  },
  {
   "cell_type": "code",
   "execution_count": 51,
   "id": "7102ab38-e306-4859-a329-961896d05b5a",
   "metadata": {},
   "outputs": [
    {
     "data": {
      "text/plain": [
       "tensor([[[ 5.3125,  7.5938, 13.3750,  ..., -6.2188, -6.2188, -6.2188],\n",
       "         [ 5.3125,  7.5938, 13.3750,  ..., -6.2188, -6.2188, -6.2188],\n",
       "         [ 3.9531,  0.5977,  0.1631,  ...,  2.5000,  2.5000,  2.5000],\n",
       "         ...,\n",
       "         [ 1.7344,  1.2812,  2.3594,  ..., -1.5000, -1.5000, -1.4922],\n",
       "         [ 2.8125,  6.5312,  8.3125,  ..., -4.1562, -4.1562, -4.1562],\n",
       "         [ 2.9688,  8.5625,  9.1875,  ..., -3.1562, -3.1562, -3.1562]]],\n",
       "       device='cuda:7', dtype=torch.bfloat16)"
      ]
     },
     "execution_count": 51,
     "metadata": {},
     "output_type": "execute_result"
    }
   ],
   "source": [
    "merger_logits"
   ]
  },
  {
   "cell_type": "code",
   "execution_count": 34,
   "id": "f7e81bb7-ac66-47b0-9baa-0557250b5a93",
   "metadata": {},
   "outputs": [],
   "source": [
    "from trl import SFTConfig, SFTTrainer"
   ]
  },
  {
   "cell_type": "code",
   "execution_count": 24,
   "id": "048f9e3c-5757-4219-842c-c99095b98817",
   "metadata": {},
   "outputs": [],
   "source": [
    "class RefTrainer(Trainer):\n",
    "    def compute_loss(self, model, inputs, return_outputs=False):\n",
    "        labels = inputs.pop(\"labels\")\n",
    "        # forward pass\n",
    "        outputs = model(**inputs)\n",
    "        logits = outputs.get(\"logits\")\n",
    "        # compute custom loss for 3 labels with different weights\n",
    "        loss_fct = nn.CrossEntropyLoss(weight=torch.tensor([1.0, 2.0, 3.0], device=model.device))\n",
    "        loss = loss_fct(logits.view(-1, self.model.config.num_labels), labels.view(-1))\n",
    "        return (loss, outputs) if return_outputs else loss"
   ]
  },
  {
   "cell_type": "code",
   "execution_count": 81,
   "id": "fe5c5463-f1e4-4c9b-bdc3-2385c43f4c93",
   "metadata": {},
   "outputs": [
    {
     "data": {
      "text/plain": [
       "{'input_ids': tensor([[128000, 128000, 128006,   9125, 128007,    271,  61524,    264,  64694,\n",
       "             11,  16945,  12399,    315,    279,   1988,   1495,    304,    709,\n",
       "            311,   2380,  23719,     11,  21760,    389,   1401,   6299,    323,\n",
       "          34334,   2085,   1701,   2132,    477,   4948,   1732,  19126,  60086,\n",
       "             13, 128009, 128006,    882, 128007,    271,  22993,   1511,   3090,\n",
       "          98014,    311,    834,  82344,  11758,    315,  67508,  20802,   7742,\n",
       "            304,  54468,    596,   1925,   8518,   8761,    311,   8835,    279,\n",
       "           4857,    315,    264,   5754,   1555,    264,  12374,  13952,    304,\n",
       "            279,  24666,   6864,   3363,    315,  71344,     13,  37759,    388,\n",
       "          20802,    304,  60590,   1609, 122591,   6825,    323,    523,   7719,\n",
       "           7294,  46704,  78101,   1778,    439,     11,    330,   2028,    374,\n",
       "           1120,    279,   7314,     11,    279,  13957,    690,   3136,   1359,\n",
       "            330,     32,  16579,  95185,    311,    279,  13957,   1359,    330,\n",
       "             42,  15610,   4379,    690,   2343,   1359,    323,    330,  22993,\n",
       "            733,   3201,     11,   1521,  14708,    527,  11604,   1210,    578,\n",
       "            502,   4883,    315,  22670,    304,  54468,  61274,   1306,    279,\n",
       "          71344,  36803,   2786,   6137,  14713,  12690,   6740,    304,    279,\n",
       "          12877,  18516,  27766,   3907,  13952,    311,   1304,   1648,    369,\n",
       "            264,  27834,   4500,   2447,     13,  10289,   1511,    872,  53765,\n",
       "            323,   3090,  98014,    311,   2867,    279,   1925,    961,    315,\n",
       "          60590,   1609, 122591,   6825,     11,  17919,  26827,   1139,   3185,\n",
       "          14708,     13,    330,   2028,    374,    539,    264,  24073,   6574,\n",
       "           3158,     13,   5321,   2867,    279,   8761,   1359,    279,   4379,\n",
       "           7376,    927,  17813,  34474,   8476,     13,   3861,  94434,    574,\n",
       "          33085,    311,    279,   5015,    555,    264,   3090,  49499,    323,\n",
       "           5675,  25917,    369,   3892,   4520,     13,    330,    644,    264,\n",
       "           2766,    814,    690,   1212,  52662,    709,   1274,     13,   2684,\n",
       "            374,    912,   2383,   2163,    304,    279,   3224,   1359,   1071,\n",
       "            264,  15779,    505,    279,  54468,   4821,  10229,    389,  72838,\n",
       "            304,   1162,    315,   3474,  64801,     13,  47993,    304,    279,\n",
       "           1938,     11,  24666,  12801,   9675,   1050,  32752,  58628,     88,\n",
       "            575,  57189,   1071,    304,    264,   8982,  12886,    304,  21814,\n",
       "            430,    279,   8246,    315,    279,   5754,   1053,    733,    389,\n",
       "            323,  32614,    279,  67508,     13,    330,   2520,    264,   5754,\n",
       "             11,   4395,    649,    387,  67904,     11,   1606,    264,   5754,\n",
       "            374,  36017,     13,   2030,   1884,    889,    527,    539,  86079,\n",
       "            690,    539,   3619,    279,    907,    315,    264,   5754,     13,\n",
       "           2435,   1541,    956,   1440,    433,   1359,    568,   1071,     13,\n",
       "            578,  17864,  12007,    323,  11050,   8722,    706,   2586,   1234,\n",
       "          19347,    369,   1202,   3544,  13230,   4500,   7224,     13,    763,\n",
       "           3297,     11,  24716,  22670,  41323,   1555,  17442,    927,   6787,\n",
       "            311,   2543,    264,   8792,  54468,   6246,   1139,    264,  12185,\n",
       "          34353,     13, 128009, 128006,  78191, 128007,    271]]), 'attention_mask': tensor([[1, 1, 1, 1, 1, 1, 1, 1, 1, 1, 1, 1, 1, 1, 1, 1, 1, 1, 1, 1, 1, 1, 1, 1,\n",
       "         1, 1, 1, 1, 1, 1, 1, 1, 1, 1, 1, 1, 1, 1, 1, 1, 1, 1, 1, 1, 1, 1, 1, 1,\n",
       "         1, 1, 1, 1, 1, 1, 1, 1, 1, 1, 1, 1, 1, 1, 1, 1, 1, 1, 1, 1, 1, 1, 1, 1,\n",
       "         1, 1, 1, 1, 1, 1, 1, 1, 1, 1, 1, 1, 1, 1, 1, 1, 1, 1, 1, 1, 1, 1, 1, 1,\n",
       "         1, 1, 1, 1, 1, 1, 1, 1, 1, 1, 1, 1, 1, 1, 1, 1, 1, 1, 1, 1, 1, 1, 1, 1,\n",
       "         1, 1, 1, 1, 1, 1, 1, 1, 1, 1, 1, 1, 1, 1, 1, 1, 1, 1, 1, 1, 1, 1, 1, 1,\n",
       "         1, 1, 1, 1, 1, 1, 1, 1, 1, 1, 1, 1, 1, 1, 1, 1, 1, 1, 1, 1, 1, 1, 1, 1,\n",
       "         1, 1, 1, 1, 1, 1, 1, 1, 1, 1, 1, 1, 1, 1, 1, 1, 1, 1, 1, 1, 1, 1, 1, 1,\n",
       "         1, 1, 1, 1, 1, 1, 1, 1, 1, 1, 1, 1, 1, 1, 1, 1, 1, 1, 1, 1, 1, 1, 1, 1,\n",
       "         1, 1, 1, 1, 1, 1, 1, 1, 1, 1, 1, 1, 1, 1, 1, 1, 1, 1, 1, 1, 1, 1, 1, 1,\n",
       "         1, 1, 1, 1, 1, 1, 1, 1, 1, 1, 1, 1, 1, 1, 1, 1, 1, 1, 1, 1, 1, 1, 1, 1,\n",
       "         1, 1, 1, 1, 1, 1, 1, 1, 1, 1, 1, 1, 1, 1, 1, 1, 1, 1, 1, 1, 1, 1, 1, 1,\n",
       "         1, 1, 1, 1, 1, 1, 1, 1, 1, 1, 1, 1, 1, 1, 1, 1, 1, 1, 1, 1, 1, 1, 1, 1,\n",
       "         1, 1, 1, 1, 1, 1, 1, 1, 1, 1, 1, 1, 1, 1, 1, 1, 1, 1, 1, 1, 1, 1, 1, 1,\n",
       "         1, 1, 1, 1, 1, 1, 1, 1, 1, 1, 1, 1, 1, 1, 1, 1, 1, 1, 1, 1, 1, 1, 1, 1,\n",
       "         1, 1, 1, 1, 1, 1, 1, 1, 1, 1, 1, 1, 1, 1, 1, 1, 1, 1, 1, 1, 1, 1, 1, 1,\n",
       "         1]])}"
      ]
     },
     "execution_count": 81,
     "metadata": {},
     "output_type": "execute_result"
    }
   ],
   "source": []
  },
  {
   "cell_type": "code",
   "execution_count": 29,
   "id": "36f98cc0-812c-4794-83bd-88ebcf553fcc",
   "metadata": {},
   "outputs": [
    {
     "data": {
      "text/plain": [
       "\u001b[0;31mType:\u001b[0m        property\n",
       "\u001b[0;31mString form:\u001b[0m <property object at 0x7f3dca9a0f90>\n",
       "\u001b[0;31mSource:\u001b[0m     \n",
       "\u001b[0;31m# merger.models[0].loss_function.fget\u001b[0m\u001b[0;34m\u001b[0m\n",
       "\u001b[0;34m\u001b[0m\u001b[0;34m@\u001b[0m\u001b[0mproperty\u001b[0m\u001b[0;34m\u001b[0m\n",
       "\u001b[0;34m\u001b[0m\u001b[0;32mdef\u001b[0m \u001b[0mloss_function\u001b[0m\u001b[0;34m(\u001b[0m\u001b[0mself\u001b[0m\u001b[0;34m)\u001b[0m\u001b[0;34m:\u001b[0m\u001b[0;34m\u001b[0m\n",
       "\u001b[0;34m\u001b[0m    \u001b[0;32mif\u001b[0m \u001b[0mgetattr\u001b[0m\u001b[0;34m(\u001b[0m\u001b[0mself\u001b[0m\u001b[0;34m.\u001b[0m\u001b[0mconfig\u001b[0m\u001b[0;34m,\u001b[0m \u001b[0;34m\"loss_type\"\u001b[0m\u001b[0;34m,\u001b[0m \u001b[0;32mNone\u001b[0m\u001b[0;34m)\u001b[0m \u001b[0;32mis\u001b[0m \u001b[0;32mnot\u001b[0m \u001b[0;32mNone\u001b[0m\u001b[0;34m:\u001b[0m\u001b[0;34m\u001b[0m\n",
       "\u001b[0;34m\u001b[0m        \u001b[0mloss_type\u001b[0m \u001b[0;34m=\u001b[0m \u001b[0mself\u001b[0m\u001b[0;34m.\u001b[0m\u001b[0mconfig\u001b[0m\u001b[0;34m.\u001b[0m\u001b[0mloss_type\u001b[0m\u001b[0;34m\u001b[0m\n",
       "\u001b[0;34m\u001b[0m    \u001b[0;32melse\u001b[0m\u001b[0;34m:\u001b[0m\u001b[0;34m\u001b[0m\n",
       "\u001b[0;34m\u001b[0m        \u001b[0mloss_type\u001b[0m \u001b[0;34m=\u001b[0m \u001b[0mself\u001b[0m\u001b[0;34m.\u001b[0m\u001b[0m__class__\u001b[0m\u001b[0;34m.\u001b[0m\u001b[0m__name__\u001b[0m\u001b[0;34m\u001b[0m\n",
       "\u001b[0;34m\u001b[0m        \u001b[0;32mif\u001b[0m \u001b[0mloss_type\u001b[0m \u001b[0;32mnot\u001b[0m \u001b[0;32min\u001b[0m \u001b[0mLOSS_MAPPING\u001b[0m\u001b[0;34m:\u001b[0m\u001b[0;34m\u001b[0m\n",
       "\u001b[0;34m\u001b[0m            \u001b[0mloss_groups\u001b[0m \u001b[0;34m=\u001b[0m \u001b[0;34mf\"({'|'.join(LOSS_MAPPING)})\"\u001b[0m\u001b[0;34m\u001b[0m\n",
       "\u001b[0;34m\u001b[0m            \u001b[0mloss_type\u001b[0m \u001b[0;34m=\u001b[0m \u001b[0mre\u001b[0m\u001b[0;34m.\u001b[0m\u001b[0mfindall\u001b[0m\u001b[0;34m(\u001b[0m\u001b[0mloss_groups\u001b[0m\u001b[0;34m,\u001b[0m \u001b[0mself\u001b[0m\u001b[0;34m.\u001b[0m\u001b[0m__class__\u001b[0m\u001b[0;34m.\u001b[0m\u001b[0m__name__\u001b[0m\u001b[0;34m)\u001b[0m\u001b[0;34m\u001b[0m\n",
       "\u001b[0;34m\u001b[0m            \u001b[0;32mif\u001b[0m \u001b[0mlen\u001b[0m\u001b[0;34m(\u001b[0m\u001b[0mloss_type\u001b[0m\u001b[0;34m)\u001b[0m \u001b[0;34m>\u001b[0m \u001b[0;36m0\u001b[0m\u001b[0;34m:\u001b[0m\u001b[0;34m\u001b[0m\n",
       "\u001b[0;34m\u001b[0m                \u001b[0mloss_type\u001b[0m \u001b[0;34m=\u001b[0m \u001b[0mloss_type\u001b[0m\u001b[0;34m[\u001b[0m\u001b[0;36m0\u001b[0m\u001b[0;34m]\u001b[0m\u001b[0;34m\u001b[0m\n",
       "\u001b[0;34m\u001b[0m            \u001b[0;32melse\u001b[0m\u001b[0;34m:\u001b[0m\u001b[0;34m\u001b[0m\n",
       "\u001b[0;34m\u001b[0m                \u001b[0mloss_type\u001b[0m \u001b[0;34m=\u001b[0m \u001b[0;32mNone\u001b[0m\u001b[0;34m\u001b[0m\n",
       "\u001b[0;34m\u001b[0m    \u001b[0;32mif\u001b[0m \u001b[0mloss_type\u001b[0m \u001b[0;32mis\u001b[0m \u001b[0;32mNone\u001b[0m \u001b[0;32mor\u001b[0m \u001b[0mloss_type\u001b[0m \u001b[0;32mnot\u001b[0m \u001b[0;32min\u001b[0m \u001b[0mLOSS_MAPPING\u001b[0m \u001b[0;32mand\u001b[0m \u001b[0mgetattr\u001b[0m\u001b[0;34m(\u001b[0m\u001b[0mself\u001b[0m\u001b[0;34m.\u001b[0m\u001b[0mconfig\u001b[0m\u001b[0;34m,\u001b[0m \u001b[0;34m\"loss_type\"\u001b[0m\u001b[0;34m,\u001b[0m \u001b[0;32mNone\u001b[0m\u001b[0;34m)\u001b[0m \u001b[0;32mis\u001b[0m \u001b[0;32mnot\u001b[0m \u001b[0;32mNone\u001b[0m\u001b[0;34m:\u001b[0m\u001b[0;34m\u001b[0m\n",
       "\u001b[0;34m\u001b[0m        \u001b[0mlogger\u001b[0m\u001b[0;34m.\u001b[0m\u001b[0mwarning_once\u001b[0m\u001b[0;34m(\u001b[0m\u001b[0;34m\u001b[0m\n",
       "\u001b[0;34m\u001b[0m            \u001b[0;34mf\"`loss_type={loss_type}` was set in the config but it is unrecognised.\"\u001b[0m\u001b[0;34m\u001b[0m\n",
       "\u001b[0;34m\u001b[0m            \u001b[0;34mf\"Using the default loss: `ForCausalLMLoss`.\"\u001b[0m\u001b[0;34m\u001b[0m\n",
       "\u001b[0;34m\u001b[0m        \u001b[0;34m)\u001b[0m\u001b[0;34m\u001b[0m\n",
       "\u001b[0;34m\u001b[0m        \u001b[0mloss_type\u001b[0m \u001b[0;34m=\u001b[0m \u001b[0;34m\"ForCausalLM\"\u001b[0m\u001b[0;34m\u001b[0m\n",
       "\u001b[0;34m\u001b[0m    \u001b[0;32mreturn\u001b[0m \u001b[0mLOSS_MAPPING\u001b[0m\u001b[0;34m[\u001b[0m\u001b[0mloss_type\u001b[0m\u001b[0;34m]\u001b[0m\u001b[0;34m\u001b[0m\u001b[0;34m\u001b[0m\u001b[0m"
      ]
     },
     "metadata": {},
     "output_type": "display_data"
    }
   ],
   "source": [
    "merger.models[0].loss_function??"
   ]
  },
  {
   "cell_type": "code",
   "execution_count": 25,
   "id": "9d796608-07ba-42ad-ad71-8c22f22bbde3",
   "metadata": {
    "scrolled": true
   },
   "outputs": [
    {
     "data": {
      "text/plain": [
       "\u001b[0;31mSignature:\u001b[0m\n",
       "\u001b[0mTrainer\u001b[0m\u001b[0;34m.\u001b[0m\u001b[0mcompute_loss\u001b[0m\u001b[0;34m(\u001b[0m\u001b[0;34m\u001b[0m\n",
       "\u001b[0;34m\u001b[0m    \u001b[0mself\u001b[0m\u001b[0;34m,\u001b[0m\u001b[0;34m\u001b[0m\n",
       "\u001b[0;34m\u001b[0m    \u001b[0mmodel\u001b[0m\u001b[0;34m,\u001b[0m\u001b[0;34m\u001b[0m\n",
       "\u001b[0;34m\u001b[0m    \u001b[0minputs\u001b[0m\u001b[0;34m,\u001b[0m\u001b[0;34m\u001b[0m\n",
       "\u001b[0;34m\u001b[0m    \u001b[0mreturn_outputs\u001b[0m\u001b[0;34m=\u001b[0m\u001b[0;32mFalse\u001b[0m\u001b[0;34m,\u001b[0m\u001b[0;34m\u001b[0m\n",
       "\u001b[0;34m\u001b[0m    \u001b[0mnum_items_in_batch\u001b[0m\u001b[0;34m=\u001b[0m\u001b[0;32mNone\u001b[0m\u001b[0;34m,\u001b[0m\u001b[0;34m\u001b[0m\n",
       "\u001b[0;34m\u001b[0m\u001b[0;34m)\u001b[0m\u001b[0;34m\u001b[0m\u001b[0;34m\u001b[0m\u001b[0m\n",
       "\u001b[0;31mSource:\u001b[0m   \n",
       "    \u001b[0;32mdef\u001b[0m \u001b[0mcompute_loss\u001b[0m\u001b[0;34m(\u001b[0m\u001b[0mself\u001b[0m\u001b[0;34m,\u001b[0m \u001b[0mmodel\u001b[0m\u001b[0;34m,\u001b[0m \u001b[0minputs\u001b[0m\u001b[0;34m,\u001b[0m \u001b[0mreturn_outputs\u001b[0m\u001b[0;34m=\u001b[0m\u001b[0;32mFalse\u001b[0m\u001b[0;34m,\u001b[0m \u001b[0mnum_items_in_batch\u001b[0m\u001b[0;34m=\u001b[0m\u001b[0;32mNone\u001b[0m\u001b[0;34m)\u001b[0m\u001b[0;34m:\u001b[0m\u001b[0;34m\u001b[0m\n",
       "\u001b[0;34m\u001b[0m        \u001b[0;34m\"\"\"\u001b[0m\n",
       "\u001b[0;34m        How the loss is computed by Trainer. By default, all models return the loss in the first element.\u001b[0m\n",
       "\u001b[0;34m\u001b[0m\n",
       "\u001b[0;34m        Subclass and override for custom behavior.\u001b[0m\n",
       "\u001b[0;34m        \"\"\"\u001b[0m\u001b[0;34m\u001b[0m\n",
       "\u001b[0;34m\u001b[0m        \u001b[0;32mif\u001b[0m \u001b[0;34m(\u001b[0m\u001b[0mself\u001b[0m\u001b[0;34m.\u001b[0m\u001b[0mlabel_smoother\u001b[0m \u001b[0;32mis\u001b[0m \u001b[0;32mnot\u001b[0m \u001b[0;32mNone\u001b[0m \u001b[0;32mor\u001b[0m \u001b[0mself\u001b[0m\u001b[0;34m.\u001b[0m\u001b[0mcompute_loss_func\u001b[0m \u001b[0;32mis\u001b[0m \u001b[0;32mnot\u001b[0m \u001b[0;32mNone\u001b[0m\u001b[0;34m)\u001b[0m \u001b[0;32mand\u001b[0m \u001b[0;34m\"labels\"\u001b[0m \u001b[0;32min\u001b[0m \u001b[0minputs\u001b[0m\u001b[0;34m:\u001b[0m\u001b[0;34m\u001b[0m\n",
       "\u001b[0;34m\u001b[0m            \u001b[0mlabels\u001b[0m \u001b[0;34m=\u001b[0m \u001b[0minputs\u001b[0m\u001b[0;34m.\u001b[0m\u001b[0mpop\u001b[0m\u001b[0;34m(\u001b[0m\u001b[0;34m\"labels\"\u001b[0m\u001b[0;34m)\u001b[0m\u001b[0;34m\u001b[0m\n",
       "\u001b[0;34m\u001b[0m        \u001b[0;32melse\u001b[0m\u001b[0;34m:\u001b[0m\u001b[0;34m\u001b[0m\n",
       "\u001b[0;34m\u001b[0m            \u001b[0mlabels\u001b[0m \u001b[0;34m=\u001b[0m \u001b[0;32mNone\u001b[0m\u001b[0;34m\u001b[0m\n",
       "\u001b[0;34m\u001b[0m        \u001b[0;32mif\u001b[0m \u001b[0mself\u001b[0m\u001b[0;34m.\u001b[0m\u001b[0mmodel_accepts_loss_kwargs\u001b[0m\u001b[0;34m:\u001b[0m\u001b[0;34m\u001b[0m\n",
       "\u001b[0;34m\u001b[0m            \u001b[0mloss_kwargs\u001b[0m \u001b[0;34m=\u001b[0m \u001b[0;34m{\u001b[0m\u001b[0;34m}\u001b[0m\u001b[0;34m\u001b[0m\n",
       "\u001b[0;34m\u001b[0m            \u001b[0;32mif\u001b[0m \u001b[0mnum_items_in_batch\u001b[0m \u001b[0;32mis\u001b[0m \u001b[0;32mnot\u001b[0m \u001b[0;32mNone\u001b[0m\u001b[0;34m:\u001b[0m\u001b[0;34m\u001b[0m\n",
       "\u001b[0;34m\u001b[0m                \u001b[0mloss_kwargs\u001b[0m\u001b[0;34m[\u001b[0m\u001b[0;34m\"num_items_in_batch\"\u001b[0m\u001b[0;34m]\u001b[0m \u001b[0;34m=\u001b[0m \u001b[0mnum_items_in_batch\u001b[0m\u001b[0;34m\u001b[0m\n",
       "\u001b[0;34m\u001b[0m            \u001b[0minputs\u001b[0m \u001b[0;34m=\u001b[0m \u001b[0;34m{\u001b[0m\u001b[0;34m**\u001b[0m\u001b[0minputs\u001b[0m\u001b[0;34m,\u001b[0m \u001b[0;34m**\u001b[0m\u001b[0mloss_kwargs\u001b[0m\u001b[0;34m}\u001b[0m\u001b[0;34m\u001b[0m\n",
       "\u001b[0;34m\u001b[0m        \u001b[0moutputs\u001b[0m \u001b[0;34m=\u001b[0m \u001b[0mmodel\u001b[0m\u001b[0;34m(\u001b[0m\u001b[0;34m**\u001b[0m\u001b[0minputs\u001b[0m\u001b[0;34m)\u001b[0m\u001b[0;34m\u001b[0m\n",
       "\u001b[0;34m\u001b[0m        \u001b[0;31m# Save past state if it exists\u001b[0m\u001b[0;34m\u001b[0m\n",
       "\u001b[0;34m\u001b[0m        \u001b[0;31m# TODO: this needs to be fixed and made cleaner later.\u001b[0m\u001b[0;34m\u001b[0m\n",
       "\u001b[0;34m\u001b[0m        \u001b[0;32mif\u001b[0m \u001b[0mself\u001b[0m\u001b[0;34m.\u001b[0m\u001b[0margs\u001b[0m\u001b[0;34m.\u001b[0m\u001b[0mpast_index\u001b[0m \u001b[0;34m>=\u001b[0m \u001b[0;36m0\u001b[0m\u001b[0;34m:\u001b[0m\u001b[0;34m\u001b[0m\n",
       "\u001b[0;34m\u001b[0m            \u001b[0mself\u001b[0m\u001b[0;34m.\u001b[0m\u001b[0m_past\u001b[0m \u001b[0;34m=\u001b[0m \u001b[0moutputs\u001b[0m\u001b[0;34m[\u001b[0m\u001b[0mself\u001b[0m\u001b[0;34m.\u001b[0m\u001b[0margs\u001b[0m\u001b[0;34m.\u001b[0m\u001b[0mpast_index\u001b[0m\u001b[0;34m]\u001b[0m\u001b[0;34m\u001b[0m\n",
       "\u001b[0;34m\u001b[0m\u001b[0;34m\u001b[0m\n",
       "\u001b[0;34m\u001b[0m        \u001b[0;32mif\u001b[0m \u001b[0mlabels\u001b[0m \u001b[0;32mis\u001b[0m \u001b[0;32mnot\u001b[0m \u001b[0;32mNone\u001b[0m\u001b[0;34m:\u001b[0m\u001b[0;34m\u001b[0m\n",
       "\u001b[0;34m\u001b[0m            \u001b[0munwrapped_model\u001b[0m \u001b[0;34m=\u001b[0m \u001b[0mself\u001b[0m\u001b[0;34m.\u001b[0m\u001b[0maccelerator\u001b[0m\u001b[0;34m.\u001b[0m\u001b[0munwrap_model\u001b[0m\u001b[0;34m(\u001b[0m\u001b[0mmodel\u001b[0m\u001b[0;34m)\u001b[0m\u001b[0;34m\u001b[0m\n",
       "\u001b[0;34m\u001b[0m            \u001b[0;32mif\u001b[0m \u001b[0m_is_peft_model\u001b[0m\u001b[0;34m(\u001b[0m\u001b[0munwrapped_model\u001b[0m\u001b[0;34m)\u001b[0m\u001b[0;34m:\u001b[0m\u001b[0;34m\u001b[0m\n",
       "\u001b[0;34m\u001b[0m                \u001b[0mmodel_name\u001b[0m \u001b[0;34m=\u001b[0m \u001b[0munwrapped_model\u001b[0m\u001b[0;34m.\u001b[0m\u001b[0mbase_model\u001b[0m\u001b[0;34m.\u001b[0m\u001b[0mmodel\u001b[0m\u001b[0;34m.\u001b[0m\u001b[0m_get_name\u001b[0m\u001b[0;34m(\u001b[0m\u001b[0;34m)\u001b[0m\u001b[0;34m\u001b[0m\n",
       "\u001b[0;34m\u001b[0m            \u001b[0;32melse\u001b[0m\u001b[0;34m:\u001b[0m\u001b[0;34m\u001b[0m\n",
       "\u001b[0;34m\u001b[0m                \u001b[0mmodel_name\u001b[0m \u001b[0;34m=\u001b[0m \u001b[0munwrapped_model\u001b[0m\u001b[0;34m.\u001b[0m\u001b[0m_get_name\u001b[0m\u001b[0;34m(\u001b[0m\u001b[0;34m)\u001b[0m\u001b[0;34m\u001b[0m\n",
       "\u001b[0;34m\u001b[0m            \u001b[0;31m# User-defined compute_loss function\u001b[0m\u001b[0;34m\u001b[0m\n",
       "\u001b[0;34m\u001b[0m            \u001b[0;32mif\u001b[0m \u001b[0mself\u001b[0m\u001b[0;34m.\u001b[0m\u001b[0mcompute_loss_func\u001b[0m \u001b[0;32mis\u001b[0m \u001b[0;32mnot\u001b[0m \u001b[0;32mNone\u001b[0m\u001b[0;34m:\u001b[0m\u001b[0;34m\u001b[0m\n",
       "\u001b[0;34m\u001b[0m                \u001b[0mloss\u001b[0m \u001b[0;34m=\u001b[0m \u001b[0mself\u001b[0m\u001b[0;34m.\u001b[0m\u001b[0mcompute_loss_func\u001b[0m\u001b[0;34m(\u001b[0m\u001b[0moutputs\u001b[0m\u001b[0;34m,\u001b[0m \u001b[0mlabels\u001b[0m\u001b[0;34m,\u001b[0m \u001b[0mnum_items_in_batch\u001b[0m\u001b[0;34m=\u001b[0m\u001b[0mnum_items_in_batch\u001b[0m\u001b[0;34m)\u001b[0m\u001b[0;34m\u001b[0m\n",
       "\u001b[0;34m\u001b[0m            \u001b[0;32melif\u001b[0m \u001b[0mmodel_name\u001b[0m \u001b[0;32min\u001b[0m \u001b[0mMODEL_FOR_CAUSAL_LM_MAPPING_NAMES\u001b[0m\u001b[0;34m.\u001b[0m\u001b[0mvalues\u001b[0m\u001b[0;34m(\u001b[0m\u001b[0;34m)\u001b[0m\u001b[0;34m:\u001b[0m\u001b[0;34m\u001b[0m\n",
       "\u001b[0;34m\u001b[0m                \u001b[0mloss\u001b[0m \u001b[0;34m=\u001b[0m \u001b[0mself\u001b[0m\u001b[0;34m.\u001b[0m\u001b[0mlabel_smoother\u001b[0m\u001b[0;34m(\u001b[0m\u001b[0moutputs\u001b[0m\u001b[0;34m,\u001b[0m \u001b[0mlabels\u001b[0m\u001b[0;34m,\u001b[0m \u001b[0mshift_labels\u001b[0m\u001b[0;34m=\u001b[0m\u001b[0;32mTrue\u001b[0m\u001b[0;34m)\u001b[0m\u001b[0;34m\u001b[0m\n",
       "\u001b[0;34m\u001b[0m            \u001b[0;32melse\u001b[0m\u001b[0;34m:\u001b[0m\u001b[0;34m\u001b[0m\n",
       "\u001b[0;34m\u001b[0m                \u001b[0mloss\u001b[0m \u001b[0;34m=\u001b[0m \u001b[0mself\u001b[0m\u001b[0;34m.\u001b[0m\u001b[0mlabel_smoother\u001b[0m\u001b[0;34m(\u001b[0m\u001b[0moutputs\u001b[0m\u001b[0;34m,\u001b[0m \u001b[0mlabels\u001b[0m\u001b[0;34m)\u001b[0m\u001b[0;34m\u001b[0m\n",
       "\u001b[0;34m\u001b[0m        \u001b[0;32melse\u001b[0m\u001b[0;34m:\u001b[0m\u001b[0;34m\u001b[0m\n",
       "\u001b[0;34m\u001b[0m            \u001b[0;32mif\u001b[0m \u001b[0misinstance\u001b[0m\u001b[0;34m(\u001b[0m\u001b[0moutputs\u001b[0m\u001b[0;34m,\u001b[0m \u001b[0mdict\u001b[0m\u001b[0;34m)\u001b[0m \u001b[0;32mand\u001b[0m \u001b[0;34m\"loss\"\u001b[0m \u001b[0;32mnot\u001b[0m \u001b[0;32min\u001b[0m \u001b[0moutputs\u001b[0m\u001b[0;34m:\u001b[0m\u001b[0;34m\u001b[0m\n",
       "\u001b[0;34m\u001b[0m                \u001b[0;32mraise\u001b[0m \u001b[0mValueError\u001b[0m\u001b[0;34m(\u001b[0m\u001b[0;34m\u001b[0m\n",
       "\u001b[0;34m\u001b[0m                    \u001b[0;34m\"The model did not return a loss from the inputs, only the following keys: \"\u001b[0m\u001b[0;34m\u001b[0m\n",
       "\u001b[0;34m\u001b[0m                    \u001b[0;34mf\"{','.join(outputs.keys())}. For reference, the inputs it received are {','.join(inputs.keys())}.\"\u001b[0m\u001b[0;34m\u001b[0m\n",
       "\u001b[0;34m\u001b[0m                \u001b[0;34m)\u001b[0m\u001b[0;34m\u001b[0m\n",
       "\u001b[0;34m\u001b[0m            \u001b[0;31m# We don't use .loss here since the model may return tuples instead of ModelOutput.\u001b[0m\u001b[0;34m\u001b[0m\n",
       "\u001b[0;34m\u001b[0m            \u001b[0mloss\u001b[0m \u001b[0;34m=\u001b[0m \u001b[0moutputs\u001b[0m\u001b[0;34m[\u001b[0m\u001b[0;34m\"loss\"\u001b[0m\u001b[0;34m]\u001b[0m \u001b[0;32mif\u001b[0m \u001b[0misinstance\u001b[0m\u001b[0;34m(\u001b[0m\u001b[0moutputs\u001b[0m\u001b[0;34m,\u001b[0m \u001b[0mdict\u001b[0m\u001b[0;34m)\u001b[0m \u001b[0;32melse\u001b[0m \u001b[0moutputs\u001b[0m\u001b[0;34m[\u001b[0m\u001b[0;36m0\u001b[0m\u001b[0;34m]\u001b[0m\u001b[0;34m\u001b[0m\n",
       "\u001b[0;34m\u001b[0m\u001b[0;34m\u001b[0m\n",
       "\u001b[0;34m\u001b[0m        \u001b[0;32mif\u001b[0m \u001b[0mself\u001b[0m\u001b[0;34m.\u001b[0m\u001b[0margs\u001b[0m\u001b[0;34m.\u001b[0m\u001b[0maverage_tokens_across_devices\u001b[0m \u001b[0;32mand\u001b[0m \u001b[0mself\u001b[0m\u001b[0;34m.\u001b[0m\u001b[0mmodel_accepts_loss_kwargs\u001b[0m\u001b[0;34m:\u001b[0m\u001b[0;34m\u001b[0m\n",
       "\u001b[0;34m\u001b[0m            \u001b[0mloss\u001b[0m \u001b[0;34m*=\u001b[0m \u001b[0mself\u001b[0m\u001b[0;34m.\u001b[0m\u001b[0maccelerator\u001b[0m\u001b[0;34m.\u001b[0m\u001b[0mnum_processes\u001b[0m\u001b[0;34m\u001b[0m\n",
       "\u001b[0;34m\u001b[0m\u001b[0;34m\u001b[0m\n",
       "\u001b[0;34m\u001b[0m        \u001b[0;32mreturn\u001b[0m \u001b[0;34m(\u001b[0m\u001b[0mloss\u001b[0m\u001b[0;34m,\u001b[0m \u001b[0moutputs\u001b[0m\u001b[0;34m)\u001b[0m \u001b[0;32mif\u001b[0m \u001b[0mreturn_outputs\u001b[0m \u001b[0;32melse\u001b[0m \u001b[0mloss\u001b[0m\u001b[0;34m\u001b[0m\u001b[0;34m\u001b[0m\u001b[0m\n",
       "\u001b[0;31mFile:\u001b[0m      ~/miniconda3/envs/py3.11/lib/python3.11/site-packages/transformers/trainer.py\n",
       "\u001b[0;31mType:\u001b[0m      function"
      ]
     },
     "metadata": {},
     "output_type": "display_data"
    }
   ],
   "source": [
    "Trainer.compute_loss??"
   ]
  }
 ],
 "metadata": {
  "kernelspec": {
   "display_name": "Python 3 (ipykernel)",
   "language": "python",
   "name": "python3"
  },
  "language_info": {
   "codemirror_mode": {
    "name": "ipython",
    "version": 3
   },
   "file_extension": ".py",
   "mimetype": "text/x-python",
   "name": "python",
   "nbconvert_exporter": "python",
   "pygments_lexer": "ipython3",
   "version": "3.11.10"
  }
 },
 "nbformat": 4,
 "nbformat_minor": 5
}
